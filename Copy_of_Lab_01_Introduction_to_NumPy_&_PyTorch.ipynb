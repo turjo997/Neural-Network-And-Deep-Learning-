{
  "nbformat": 4,
  "nbformat_minor": 0,
  "metadata": {
    "colab": {
      "name": "Copy of Lab_01_Introduction_to_NumPy_&_PyTorch.ipynb",
      "provenance": [],
      "collapsed_sections": [],
      "include_colab_link": true
    },
    "kernelspec": {
      "name": "python3",
      "display_name": "Python 3"
    },
    "accelerator": "GPU"
  },
  "cells": [
    {
      "cell_type": "markdown",
      "metadata": {
        "id": "view-in-github",
        "colab_type": "text"
      },
      "source": [
        "<a href=\"https://colab.research.google.com/github/turjo997/Neural-Network-And-Deep-Learning-/blob/main/Copy_of_Lab_01_Introduction_to_NumPy_%26_PyTorch.ipynb\" target=\"_parent\"><img src=\"https://colab.research.google.com/assets/colab-badge.svg\" alt=\"Open In Colab\"/></a>"
      ]
    },
    {
      "cell_type": "markdown",
      "metadata": {
        "id": "hGlN8vYabdXk"
      },
      "source": [
        "<div align=\"center\">\n",
        "<img src=\"https://drive.google.com/uc?id=1JOzNG8Sf9rXQ_nHqlzOvzOnpr4iSIkmc\" width=\"250\">\n",
        "\n",
        "<img src=\"https://drive.google.com/uc?id=1SctzfeQJDdGN2eMRQhJEoQWWO9rovrWh\" width=\"300\">\n",
        "</div>\n"
      ]
    },
    {
      "cell_type": "markdown",
      "metadata": {
        "id": "aenrS3vJi33Z"
      },
      "source": [
        "## Numpy\n",
        "\n",
        "[Numpy](https://numpy.org/) is the core library for scientific computing in Python. It provides a high-performance multidimensional array object, and tools for working with these arrays. To use Numpy, we first need to import the numpy package as `import numpy as np`"
      ]
    },
    {
      "cell_type": "code",
      "metadata": {
        "id": "E2ESAJrHWzzn"
      },
      "source": [
        "import numpy as np"
      ],
      "execution_count": 1,
      "outputs": []
    },
    {
      "cell_type": "markdown",
      "metadata": {
        "id": "2dVO07CgV_dh"
      },
      "source": [
        "### Arrays\n",
        "\n",
        "A numpy array is a grid of values, **all of the same type**, and is indexed by a tuple of nonnegative integers. **The number of dimensions is the rank of the array**; the shape of an array is a tuple of integers giving the size of the array along each dimension. We can initialize numpy arrays from nested Python lists, and access elements using square brackets:\n",
        "\n"
      ]
    },
    {
      "cell_type": "code",
      "metadata": {
        "colab": {
          "base_uri": "https://localhost:8080/"
        },
        "id": "GYT8uNOuWvCL",
        "outputId": "8048916a-fd15-431f-adc5-e6e2ae50c45f"
      },
      "source": [
        "a = np.array([1, 2, 3])  # Create a rank 1 array\n",
        "print(type(a), a.shape, a[0], a[1], a[2])\n",
        "a[0] = 5                 # Change an element of the array\n",
        "print(a)"
      ],
      "execution_count": null,
      "outputs": [
        {
          "output_type": "stream",
          "text": [
            "<class 'numpy.ndarray'> (3,) 1 2 3\n",
            "[5 2 3]\n"
          ],
          "name": "stdout"
        }
      ]
    },
    {
      "cell_type": "code",
      "source": [
        "a = np.array([1,2,3])\n",
        "print(type(a) , a.shape , a[0] , a[1] , a[2])\n",
        "print(a)"
      ],
      "metadata": {
        "colab": {
          "base_uri": "https://localhost:8080/"
        },
        "id": "b23Ns9pjlOEs",
        "outputId": "beb171cd-3df8-42d9-8bde-cf29849b02b6"
      },
      "execution_count": null,
      "outputs": [
        {
          "output_type": "stream",
          "name": "stdout",
          "text": [
            "<class 'numpy.ndarray'> (3,) 1 2 3\n",
            "[1 2 3]\n"
          ]
        }
      ]
    },
    {
      "cell_type": "code",
      "metadata": {
        "colab": {
          "base_uri": "https://localhost:8080/"
        },
        "id": "qBrP3DTeXZDb",
        "outputId": "3661a98e-ea13-403b-c414-89e50d1785bb"
      },
      "source": [
        "b = np.array([[1,2,3],[4,5,6]])   # Create a rank 2 array\n",
        "print(b)"
      ],
      "execution_count": null,
      "outputs": [
        {
          "output_type": "stream",
          "text": [
            "[[1 2 3]\n",
            " [4 5 6]]\n"
          ],
          "name": "stdout"
        }
      ]
    },
    {
      "cell_type": "code",
      "source": [
        "b = np.array([[1,2,3,4] , [4,5,6,5] , [7,5,8,9]])\n",
        "print(b)\n",
        "print(type(b) , b.shape , b[0] , b[1])"
      ],
      "metadata": {
        "colab": {
          "base_uri": "https://localhost:8080/"
        },
        "id": "LotzsWKEl5hr",
        "outputId": "3d9c12ae-0f1d-43ad-ef5e-7ca7954706a1"
      },
      "execution_count": null,
      "outputs": [
        {
          "output_type": "stream",
          "name": "stdout",
          "text": [
            "[[1 2 3 4]\n",
            " [4 5 6 5]\n",
            " [7 5 8 9]]\n",
            "<class 'numpy.ndarray'> (3, 4) [1 2 3 4] [4 5 6 5]\n"
          ]
        }
      ]
    },
    {
      "cell_type": "code",
      "metadata": {
        "colab": {
          "base_uri": "https://localhost:8080/"
        },
        "id": "nAWJoutwXdOJ",
        "outputId": "431b04af-c9d5-42ef-f8bc-2d6ab231187e"
      },
      "source": [
        "print(b.shape)\n",
        "print(b[0, 0], b[0, 1], b[1, 0])"
      ],
      "execution_count": null,
      "outputs": [
        {
          "output_type": "stream",
          "name": "stdout",
          "text": [
            "(2, 3)\n",
            "1 2 4\n"
          ]
        }
      ]
    },
    {
      "cell_type": "code",
      "source": [
        "c = np.array([[ \n",
        "               [1,2,3,4],\n",
        "               [5,6,7,8],\n",
        "               [9,10,11,12], \n",
        "               [1,1,1,1]   \n",
        "]])\n",
        "print(c)\n",
        "print(c.shape)"
      ],
      "metadata": {
        "colab": {
          "base_uri": "https://localhost:8080/"
        },
        "id": "wbBKsZVimmFU",
        "outputId": "9108b5aa-bedf-456d-94c9-8ce3ae8d18e9"
      },
      "execution_count": null,
      "outputs": [
        {
          "output_type": "stream",
          "name": "stdout",
          "text": [
            "[[[ 1  2  3  4]\n",
            "  [ 5  6  7  8]\n",
            "  [ 9 10 11 12]\n",
            "  [ 1  1  1  1]]]\n",
            "(1, 4, 4)\n"
          ]
        }
      ]
    },
    {
      "cell_type": "markdown",
      "metadata": {
        "id": "GmUmAYPHXskp"
      },
      "source": [
        "Numpy also provides many functions to create arrays:"
      ]
    },
    {
      "cell_type": "code",
      "metadata": {
        "colab": {
          "base_uri": "https://localhost:8080/"
        },
        "id": "3cflrO8SXvCb",
        "outputId": "49688a71-92f6-4adb-fff6-26a09ff48d85"
      },
      "source": [
        "a = np.zeros((2,2))  # Create an array of all zeros\n",
        "print(a)"
      ],
      "execution_count": null,
      "outputs": [
        {
          "output_type": "stream",
          "name": "stdout",
          "text": [
            "[[0. 0.]\n",
            " [0. 0.]]\n"
          ]
        }
      ]
    },
    {
      "cell_type": "code",
      "source": [
        "a = np.zeros((3,2))\n",
        "print(a)"
      ],
      "metadata": {
        "colab": {
          "base_uri": "https://localhost:8080/"
        },
        "id": "1whESTqWrZtv",
        "outputId": "60b135bb-fab0-404f-e286-f7dc78ab4c7b"
      },
      "execution_count": null,
      "outputs": [
        {
          "output_type": "stream",
          "name": "stdout",
          "text": [
            "[[0. 0.]\n",
            " [0. 0.]\n",
            " [0. 0.]]\n"
          ]
        }
      ]
    },
    {
      "cell_type": "code",
      "metadata": {
        "colab": {
          "base_uri": "https://localhost:8080/"
        },
        "id": "l7m1foQ0X3Do",
        "outputId": "42531551-b3b8-450f-ea3c-ebb2f6fc3537"
      },
      "source": [
        "b = np.ones((1,2))   # Create an array of all ones\n",
        "print(b)"
      ],
      "execution_count": null,
      "outputs": [
        {
          "output_type": "stream",
          "name": "stdout",
          "text": [
            "[[1. 1.]]\n"
          ]
        }
      ]
    },
    {
      "cell_type": "code",
      "metadata": {
        "colab": {
          "base_uri": "https://localhost:8080/"
        },
        "id": "Qwjj7FZLX7LH",
        "outputId": "6f608af0-63d6-4220-e4f5-372e89201916"
      },
      "source": [
        "c = np.full((2,2), 7) # Create a constant array\n",
        "print(c)"
      ],
      "execution_count": null,
      "outputs": [
        {
          "output_type": "stream",
          "name": "stdout",
          "text": [
            "[[7 7]\n",
            " [7 7]]\n"
          ]
        }
      ]
    },
    {
      "cell_type": "code",
      "source": [
        "c = np.full((3,4) , 1)\n",
        "print(c)"
      ],
      "metadata": {
        "colab": {
          "base_uri": "https://localhost:8080/"
        },
        "id": "DyfGwn-wrmiV",
        "outputId": "c20dd62c-c3e8-4483-b847-2271d971a032"
      },
      "execution_count": null,
      "outputs": [
        {
          "output_type": "stream",
          "name": "stdout",
          "text": [
            "[[1 1 1 1]\n",
            " [1 1 1 1]\n",
            " [1 1 1 1]]\n"
          ]
        }
      ]
    },
    {
      "cell_type": "code",
      "metadata": {
        "colab": {
          "base_uri": "https://localhost:8080/"
        },
        "id": "2gFhPTu1X_Df",
        "outputId": "54860092-c9b6-4e11-c4cc-9a01e4909b9e"
      },
      "source": [
        "d = np.eye(2)        # Create a 2x2 identity matrix\n",
        "print(d)"
      ],
      "execution_count": null,
      "outputs": [
        {
          "output_type": "stream",
          "name": "stdout",
          "text": [
            "[[1. 0.]\n",
            " [0. 1.]]\n"
          ]
        }
      ]
    },
    {
      "cell_type": "code",
      "metadata": {
        "colab": {
          "base_uri": "https://localhost:8080/"
        },
        "id": "yHV4M_ssYN1x",
        "outputId": "bb797859-acd1-4edd-df73-dd089e48fece"
      },
      "source": [
        "e = np.random.random((2,2)) # Create an array filled with random values\n",
        "print(e)"
      ],
      "execution_count": null,
      "outputs": [
        {
          "output_type": "stream",
          "name": "stdout",
          "text": [
            "[[0.20955718 0.93061151]\n",
            " [0.00104743 0.6772676 ]]\n"
          ]
        }
      ]
    },
    {
      "cell_type": "code",
      "source": [
        "d = np.random.random((3,4))\n",
        "print(d)"
      ],
      "metadata": {
        "colab": {
          "base_uri": "https://localhost:8080/"
        },
        "id": "n5KKHNSlrw32",
        "outputId": "dff07e69-2847-4cff-bbdd-c698abf79692"
      },
      "execution_count": null,
      "outputs": [
        {
          "output_type": "stream",
          "name": "stdout",
          "text": [
            "[[0.00953708 0.94803274 0.90088508 0.97178612]\n",
            " [0.49005467 0.06160121 0.00906252 0.96390768]\n",
            " [0.51129131 0.32755198 0.91456239 0.45727397]]\n"
          ]
        }
      ]
    },
    {
      "cell_type": "code",
      "source": [
        "image = np.array([[[ 0.67826139, 0.29380381 , 2],\n",
        " [ 0.90714982, 0.52835647 , 1],\n",
        " [ 0.4215251 , 0.45017551 , 2]],\n",
        " [[ 0.92814219, 0.96677647 , 3],\n",
        " [ 0.85304703, 0.52351845 , 1],\n",
        " [ 0.19981397, 0.27417313 , 2]],\n",
        " [[ 0.60659855, 0.0053316 , 5],\n",
        " [ 0.10820313, 0.49978937 , 3],\n",
        " [ 0.34144279, 0.94630077 , 4]]])\n",
        "print(image)\n",
        "print(image.shape)\n",
        "print(\"transpose\\n\", image.T)"
      ],
      "metadata": {
        "colab": {
          "base_uri": "https://localhost:8080/"
        },
        "id": "aMFfZurpsLud",
        "outputId": "0225477d-4ae2-486a-da9d-c28c2aea86a4"
      },
      "execution_count": null,
      "outputs": [
        {
          "output_type": "stream",
          "name": "stdout",
          "text": [
            "[[[0.67826139 0.29380381 2.        ]\n",
            "  [0.90714982 0.52835647 1.        ]\n",
            "  [0.4215251  0.45017551 2.        ]]\n",
            "\n",
            " [[0.92814219 0.96677647 3.        ]\n",
            "  [0.85304703 0.52351845 1.        ]\n",
            "  [0.19981397 0.27417313 2.        ]]\n",
            "\n",
            " [[0.60659855 0.0053316  5.        ]\n",
            "  [0.10820313 0.49978937 3.        ]\n",
            "  [0.34144279 0.94630077 4.        ]]]\n",
            "(3, 3, 3)\n",
            "transpose\n",
            " [[[0.67826139 0.92814219 0.60659855]\n",
            "  [0.90714982 0.85304703 0.10820313]\n",
            "  [0.4215251  0.19981397 0.34144279]]\n",
            "\n",
            " [[0.29380381 0.96677647 0.0053316 ]\n",
            "  [0.52835647 0.52351845 0.49978937]\n",
            "  [0.45017551 0.27417313 0.94630077]]\n",
            "\n",
            " [[2.         3.         5.        ]\n",
            "  [1.         1.         3.        ]\n",
            "  [2.         2.         4.        ]]]\n"
          ]
        }
      ]
    },
    {
      "cell_type": "markdown",
      "metadata": {
        "id": "OYzzDjtgaqYb"
      },
      "source": [
        "### Datatypes\n",
        "\n",
        "**Every numpy array is a grid of elements of the same type.** Numpy provides a large set of numeric datatypes that you can use to construct arrays. **Numpy tries to guess a datatype when you create an array**, but functions that construct arrays usually also include an optional argument to explicitly specify the datatype. Here is an example:\n",
        "\n",
        "You can read all about numpy datatypes in the [documentation](http://docs.scipy.org/doc/numpy/reference/arrays.dtypes.html)."
      ]
    },
    {
      "cell_type": "code",
      "metadata": {
        "colab": {
          "base_uri": "https://localhost:8080/"
        },
        "id": "eAonmR48a4wa",
        "outputId": "10e309e0-938c-43c5-9a07-2ae231b14164"
      },
      "source": [
        "x = np.array([1, 2])  # Let numpy choose the datatype\n",
        "y = np.array([1.0, 2.0])  # Let numpy choose the datatype\n",
        "z = np.array([1, 2], dtype=np.int64)  # Force a particular datatype\n",
        "\n",
        "print(x.dtype, y.dtype, z.dtype)"
      ],
      "execution_count": null,
      "outputs": [
        {
          "output_type": "stream",
          "name": "stdout",
          "text": [
            "int64 float64 int64\n"
          ]
        }
      ]
    },
    {
      "cell_type": "markdown",
      "metadata": {
        "id": "QZq7X-c-gFGZ"
      },
      "source": [
        "## Array math\n",
        "\n",
        "**Basic mathematical functions operate elementwise on arrays**, and are available both as operator overloads and as functions in the numpy module:"
      ]
    },
    {
      "cell_type": "code",
      "metadata": {
        "colab": {
          "base_uri": "https://localhost:8080/"
        },
        "id": "jGzEfTuFgUet",
        "outputId": "7765f026-5a6a-4621-e43a-174390222170"
      },
      "source": [
        "x = np.array([[1,2],[3,4]], dtype=np.float64)\n",
        "y = np.array([[5,6],[7,8]], dtype=np.float64)\n",
        "\n",
        "# Elementwise sum; both produce the array\n",
        "print(x + y)\n",
        "print(np.add(x, y))"
      ],
      "execution_count": null,
      "outputs": [
        {
          "output_type": "stream",
          "name": "stdout",
          "text": [
            "[[ 6.  8.]\n",
            " [10. 12.]]\n",
            "[[ 6.  8.]\n",
            " [10. 12.]]\n"
          ]
        }
      ]
    },
    {
      "cell_type": "code",
      "source": [
        "a = np.array([[1,2,3] , [4,5,6]] , dtype=np.float64)\n",
        "b = np.array([[10,20,30] , [4,5,6]] , dtype=np.float64)\n",
        "print(a+b)\n",
        "print(np.add(a,b))"
      ],
      "metadata": {
        "colab": {
          "base_uri": "https://localhost:8080/"
        },
        "id": "zPZQu9h84UDq",
        "outputId": "0df2bb95-df25-4304-d0c0-71d296d5d2e2"
      },
      "execution_count": null,
      "outputs": [
        {
          "output_type": "stream",
          "name": "stdout",
          "text": [
            "[[11. 22. 33.]\n",
            " [ 8. 10. 12.]]\n",
            "[[11. 22. 33.]\n",
            " [ 8. 10. 12.]]\n"
          ]
        }
      ]
    },
    {
      "cell_type": "code",
      "source": [
        "print(x- y)\n",
        "print(np.subtract(x, y))"
      ],
      "metadata": {
        "colab": {
          "base_uri": "https://localhost:8080/"
        },
        "id": "gUyUNPsz8Xnu",
        "outputId": "aae2e9de-b65d-4be2-e9b5-a89a8aa22c63"
      },
      "execution_count": null,
      "outputs": [
        {
          "output_type": "stream",
          "name": "stdout",
          "text": [
            "[[-4. -4.]\n",
            " [-4. -4.]]\n",
            "[[-4. -4.]\n",
            " [-4. -4.]]\n"
          ]
        }
      ]
    },
    {
      "cell_type": "code",
      "metadata": {
        "colab": {
          "base_uri": "https://localhost:8080/"
        },
        "id": "3g5sXplxgZU0",
        "outputId": "eb65e67b-d3e3-4abb-8278-8a2f213a9d5b"
      },
      "source": [
        "# Elementwise difference; both produce the array\n",
        "print(x - y)\n",
        "print(np.subtract(x, y))\n",
        "print(a-b)\n",
        "print(np.subtract(a,b))"
      ],
      "execution_count": null,
      "outputs": [
        {
          "output_type": "stream",
          "name": "stdout",
          "text": [
            "[[-4. -4.]\n",
            " [-4. -4.]]\n",
            "[[-4. -4.]\n",
            " [-4. -4.]]\n",
            "[[ -9. -18. -27.]\n",
            " [  0.   0.   0.]]\n",
            "[[ -9. -18. -27.]\n",
            " [  0.   0.   0.]]\n"
          ]
        }
      ]
    },
    {
      "cell_type": "code",
      "metadata": {
        "colab": {
          "base_uri": "https://localhost:8080/"
        },
        "id": "dpuzn0ivgcmQ",
        "outputId": "f864e142-daef-4fbb-fcfa-c690d17a06f0"
      },
      "source": [
        " # Elementwise product; both produce the array\n",
        "print(x * y)\n",
        "print(np.multiply(x, y))"
      ],
      "execution_count": null,
      "outputs": [
        {
          "output_type": "stream",
          "name": "stdout",
          "text": [
            "[[ 5. 12.]\n",
            " [21. 32.]]\n",
            "[[ 5. 12.]\n",
            " [21. 32.]]\n"
          ]
        }
      ]
    },
    {
      "cell_type": "code",
      "metadata": {
        "colab": {
          "base_uri": "https://localhost:8080/"
        },
        "id": "1FYntcSmgqZl",
        "outputId": "93a831f4-9e6e-497d-c6c2-d74cf3246763"
      },
      "source": [
        "# Elementwise division; both produce the array\n",
        "# [[ 0.2         0.33333333]\n",
        "#  [ 0.42857143  0.5       ]]\n",
        "print(x / y)\n",
        "print(np.divide(x, y))"
      ],
      "execution_count": null,
      "outputs": [
        {
          "output_type": "stream",
          "name": "stdout",
          "text": [
            "[[0.2        0.33333333]\n",
            " [0.42857143 0.5       ]]\n",
            "[[0.2        0.33333333]\n",
            " [0.42857143 0.5       ]]\n"
          ]
        }
      ]
    },
    {
      "cell_type": "code",
      "metadata": {
        "colab": {
          "base_uri": "https://localhost:8080/"
        },
        "id": "kD63Mq5egsFl",
        "outputId": "6bf4f471-b345-4b1d-8655-20f2333fa819"
      },
      "source": [
        "# Elementwise square root; produces the array\n",
        "# [[ 1.          1.41421356]\n",
        "#  [ 1.73205081  2.        ]]\n",
        "print(np.sqrt(x))"
      ],
      "execution_count": null,
      "outputs": [
        {
          "output_type": "stream",
          "name": "stdout",
          "text": [
            "[[1.         1.41421356]\n",
            " [1.73205081 2.        ]]\n"
          ]
        }
      ]
    },
    {
      "cell_type": "markdown",
      "metadata": {
        "id": "t9qM2375hZWF"
      },
      "source": [
        " ## **Important Note**\n",
        " \n",
        " `*` is elementwise multiplication, not matrix multiplication. **We instead use the dot function to compute inner products of vectors, to multiply a vector by a matrix, and to multiply matrices.** dot is available both as a function in the numpy module and as an instance method of array objects:"
      ]
    },
    {
      "cell_type": "code",
      "metadata": {
        "colab": {
          "base_uri": "https://localhost:8080/"
        },
        "id": "XWuVUgTVh2EZ",
        "outputId": "29164122-ba44-4b6c-aa1e-8f5fa2daa66c"
      },
      "source": [
        "x = np.array([[1,2],[3,4]])\n",
        "y = np.array([[5,6],[7,8]])\n",
        "\n",
        "v = np.array([9,10])\n",
        "w = np.array([11, 12])\n",
        "\n",
        "x1 = np.array([[1,1],[2,3]])\n",
        "y1 = np.array([[1,1],[1,1]])\n",
        "\n",
        "# Inner product of vectors; both produce 219\n",
        "print(v.dot(w))\n",
        "print(np.dot(v, w))\n",
        "print(x.dot(y))\n",
        "print(np.dot(x,y))\n",
        "print(np.dot(x1,y1))"
      ],
      "execution_count": null,
      "outputs": [
        {
          "output_type": "stream",
          "name": "stdout",
          "text": [
            "219\n",
            "219\n",
            "[[19 22]\n",
            " [43 50]]\n",
            "[[19 22]\n",
            " [43 50]]\n",
            "[[2 2]\n",
            " [5 5]]\n"
          ]
        }
      ]
    },
    {
      "cell_type": "markdown",
      "metadata": {
        "id": "cG1R9GJ7h8aT"
      },
      "source": [
        "**You can also use the @ operator which is equivalent to numpy's dot operator.**"
      ]
    },
    {
      "cell_type": "code",
      "metadata": {
        "colab": {
          "base_uri": "https://localhost:8080/"
        },
        "id": "Bn6E5QPvh6RZ",
        "outputId": "d8e4e4d0-9005-464f-c204-320a21050c96"
      },
      "source": [
        "print(v @ w)"
      ],
      "execution_count": null,
      "outputs": [
        {
          "output_type": "stream",
          "text": [
            "219\n"
          ],
          "name": "stdout"
        }
      ]
    },
    {
      "cell_type": "code",
      "metadata": {
        "colab": {
          "base_uri": "https://localhost:8080/"
        },
        "id": "o6Ba9VrQiOny",
        "outputId": "4310bc4b-5598-4ff3-c819-f4fdffecb6b7"
      },
      "source": [
        "# Matrix / vector product; both produce the rank 1 array [29 67]\n",
        "print(x.dot(v))\n",
        "print(np.dot(x, v))\n",
        "print(x @ v)"
      ],
      "execution_count": null,
      "outputs": [
        {
          "output_type": "stream",
          "text": [
            "[29 67]\n",
            "[29 67]\n",
            "[29 67]\n"
          ],
          "name": "stdout"
        }
      ]
    },
    {
      "cell_type": "code",
      "metadata": {
        "colab": {
          "base_uri": "https://localhost:8080/"
        },
        "id": "jYzY3Wf2iP_h",
        "outputId": "ed9b56b8-9c07-4c81-b498-830f21e28a64"
      },
      "source": [
        "# Matrix / matrix product; both produce the rank 2 array\n",
        "# [[19 22]\n",
        "#  [43 50]]\n",
        "print(x.dot(y))\n",
        "print(np.dot(x, y))\n",
        "print(x @ y)"
      ],
      "execution_count": null,
      "outputs": [
        {
          "output_type": "stream",
          "text": [
            "[[19 22]\n",
            " [43 50]]\n",
            "[[19 22]\n",
            " [43 50]]\n",
            "[[19 22]\n",
            " [43 50]]\n"
          ],
          "name": "stdout"
        }
      ]
    },
    {
      "cell_type": "markdown",
      "metadata": {
        "id": "z9RshYY_inAo"
      },
      "source": [
        "Numpy provides many useful functions for performing computations on arrays; one of the most useful is `sum`:"
      ]
    },
    {
      "cell_type": "code",
      "metadata": {
        "colab": {
          "base_uri": "https://localhost:8080/"
        },
        "id": "hLUS16L7inkd",
        "outputId": "8f88d51e-6b30-4a68-aad7-5b5d66517827"
      },
      "source": [
        "x = np.array([[1,2],[3,4]])\n",
        "\n",
        "print(np.sum(x))  # Compute sum of all elements; prints \"10\"\n",
        "print(np.sum(x, axis=0))  # Compute sum of each column; prints \"[4 6]\"\n",
        "print(np.sum(x, axis=1))  # Compute sum of each row; prints \"[3 7]\""
      ],
      "execution_count": null,
      "outputs": [
        {
          "output_type": "stream",
          "name": "stdout",
          "text": [
            "10\n",
            "[4 6]\n",
            "[3 7]\n"
          ]
        }
      ]
    },
    {
      "cell_type": "markdown",
      "metadata": {
        "id": "1IvAY8C1i-8T"
      },
      "source": [
        "You can find the full list of mathematical functions provided by numpy in the [documentation](http://docs.scipy.org/doc/numpy/reference/routines.math.html).\n",
        "\n",
        "Apart from computing mathematical functions using arrays, we frequently need to reshape or otherwise manipulate data in arrays. The simplest example of this type of operation is transposing a matrix; to transpose a matrix, simply use the T attribute of an array object:"
      ]
    },
    {
      "cell_type": "code",
      "metadata": {
        "colab": {
          "base_uri": "https://localhost:8080/"
        },
        "id": "MEyRJsC4jADJ",
        "outputId": "16c89e8b-d550-4641-8c85-069bf81233d0"
      },
      "source": [
        "print(x)\n",
        "print(\"transpose\\n\", x.T)"
      ],
      "execution_count": null,
      "outputs": [
        {
          "output_type": "stream",
          "name": "stdout",
          "text": [
            "[[1 2]\n",
            " [3 4]]\n",
            "transpose\n",
            " [[1 3]\n",
            " [2 4]]\n"
          ]
        }
      ]
    },
    {
      "cell_type": "code",
      "metadata": {
        "id": "FEHtzYLUjDmW",
        "colab": {
          "base_uri": "https://localhost:8080/"
        },
        "outputId": "dcfb5157-83d8-4481-d010-d2d355d06ec5"
      },
      "source": [
        "v = np.array([[1,2,3]])\n",
        "print(v )\n",
        "print(\"transpose\\n\", v.T)"
      ],
      "execution_count": null,
      "outputs": [
        {
          "output_type": "stream",
          "name": "stdout",
          "text": [
            "[[1 2 3]]\n",
            "transpose\n",
            " [[1]\n",
            " [2]\n",
            " [3]]\n"
          ]
        }
      ]
    },
    {
      "cell_type": "code",
      "metadata": {
        "colab": {
          "base_uri": "https://localhost:8080/"
        },
        "id": "RwbozEnjYrLK",
        "outputId": "c3da814a-afc9-40f1-c923-3154a0531751"
      },
      "source": [
        "import numpy as np\n",
        "\n",
        "# example of numpy array\n",
        "x = np.array([1, 2, 3])\n",
        "print(x)"
      ],
      "execution_count": null,
      "outputs": [
        {
          "output_type": "stream",
          "name": "stdout",
          "text": [
            "[1 2 3]\n"
          ]
        }
      ]
    },
    {
      "cell_type": "markdown",
      "metadata": {
        "id": "jFSr1X85jrmo"
      },
      "source": [
        "If $x$ is a vector, then a Python operation such as $s = x + 3$ or $s = \\frac{1}{x}$ will output s as a vector of the same size as x."
      ]
    },
    {
      "cell_type": "code",
      "metadata": {
        "id": "AYVoF2pJjv5F",
        "colab": {
          "base_uri": "https://localhost:8080/"
        },
        "outputId": "b7b06f6d-a234-4230-a529-07e3440687eb"
      },
      "source": [
        "# example of vector operation\n",
        "x = np.array([1, 2, 3])\n",
        "print (x + 3)\n",
        "print(x*3)"
      ],
      "execution_count": null,
      "outputs": [
        {
          "output_type": "stream",
          "name": "stdout",
          "text": [
            "[4 5 6]\n",
            "[3 6 9]\n"
          ]
        }
      ]
    },
    {
      "cell_type": "markdown",
      "metadata": {
        "id": "ThCRXKYIjSEO"
      },
      "source": [
        "In fact, if $ x = (x_1, x_2, ..., x_n)$ is a row vector then $np.exp(x)$ will apply the exponential function to every element of x. The output will thus be: $np.exp(x) = (e^{x_1}, e^{x_2}, ..., e^{x_n})$"
      ]
    },
    {
      "cell_type": "code",
      "metadata": {
        "id": "znx1N3p7jDc-",
        "colab": {
          "base_uri": "https://localhost:8080/"
        },
        "outputId": "e19342e1-5701-4cc1-fe57-ebb69ecbc9b1"
      },
      "source": [
        "import numpy as np\n",
        "\n",
        "# example of np.exp\n",
        "x = np.array([1, 2, 3])\n",
        "print(np.exp(x)) # result is (exp(1), exp(2), exp(3))"
      ],
      "execution_count": null,
      "outputs": [
        {
          "output_type": "stream",
          "name": "stdout",
          "text": [
            "[ 2.71828183  7.3890561  20.08553692]\n"
          ]
        }
      ]
    },
    {
      "cell_type": "markdown",
      "metadata": {
        "id": "Dx5SeqsRj7xN"
      },
      "source": [
        "Any time you need more info on a numpy function, we encourage you to look at [the official documentation](https://docs.scipy.org/doc/numpy-1.10.1/reference/generated/numpy.exp.html). "
      ]
    },
    {
      "cell_type": "markdown",
      "metadata": {
        "id": "ReWtgqV--ct6"
      },
      "source": [
        "## What is Pytorch? \n",
        "\n",
        "[PyTorch](https://pytorch.org/) is a python package built by **Facebook AI Research (FAIR)** that provides two high-level features:\n",
        "- Tensor computation (like numpy) with strong GPU acceleration\n",
        "- Deep Neural Networks built on a tape-based autograd (*Automatic Gradient Calculation*) system\n",
        "\n",
        "## Why Pytorch? \n",
        "- **More Pythonic** \n",
        "    - Flexible\n",
        "    - Intuitive and cleaner code\n",
        "    - Easy to learn & debug\n",
        "    - Dynamic Computation Graph (*network behavior can be changed programmatically at runtime*)\n",
        "\n",
        "- **More Neural Networkic**\n",
        "    - Write code as the network works\n",
        "    - forward/backward\n",
        "\n"
      ]
    },
    {
      "cell_type": "markdown",
      "metadata": {
        "id": "o3Furpvn_pKX"
      },
      "source": [
        "## Checking PyTorch version"
      ]
    },
    {
      "cell_type": "code",
      "metadata": {
        "colab": {
          "base_uri": "https://localhost:8080/"
        },
        "id": "yjLC9B6h_sFi",
        "outputId": "b9d4a595-d47b-48ca-94c6-922787a1c012"
      },
      "source": [
        "import torch\n",
        "\n",
        "print(torch.__version__)"
      ],
      "execution_count": null,
      "outputs": [
        {
          "output_type": "stream",
          "name": "stdout",
          "text": [
            "1.11.0+cu113\n"
          ]
        }
      ]
    },
    {
      "cell_type": "markdown",
      "metadata": {
        "id": "pvGt0wQH_qQh"
      },
      "source": [
        "## Introduction to Tensors\n",
        "\n",
        "A **PyTorch Tensor** is basically the same as a numpy array: it does not know anything about deep learning or computational graphs or gradients, and is just a generic **n-dimensional array** to be used for arbitrary **numeric computation**.\n",
        "\n",
        "The biggest difference between a numpy array and a PyTorch Tensor is that a **PyTorch Tensor can run on either CPU or GPU**. To run operations on the GPU, **just cast the Tensor to a cuda datatype**.\n",
        "\n",
        "\n",
        "A scalar is **zero-order tensor** or rank zero tensor. A vector is a **one-dimensional** or first order tensor, and a matrix is a **two-dimensional** or second order tensor. \n",
        "\n",
        "\n",
        "\n",
        "<div align=\"center\">\n",
        "<img src=\"https://drive.google.com/uc?id=1pka-LVyrq_7r0sCm59cvOQofEYAcnO4r\" width=\"550\">\n",
        "</div>\n",
        "\n",
        "<div align=\"center\">\n",
        "<img src=\"https://drive.google.com/uc?id=1zHT5CGzIgpe1aLkdawrllTMn74nYVeAp\" width=\"550\">\n",
        "</div>\n",
        "\n"
      ]
    },
    {
      "cell_type": "markdown",
      "metadata": {
        "id": "BmPtzMoC_7er"
      },
      "source": [
        "A [torch.Tensor](https://pytorch.org/docs/stable/tensors.html) is a **multi-dimensional matrix** containing elements of a **single data type**.\n",
        "\n",
        "`torch.Tensor` is an alias for the default tensor type (`torch.FloatTensor`)."
      ]
    },
    {
      "cell_type": "code",
      "metadata": {
        "colab": {
          "base_uri": "https://localhost:8080/"
        },
        "id": "I_U-fg4I_-dx",
        "outputId": "56fbdcea-beef-43b6-cadb-cc0b785a3634"
      },
      "source": [
        "torch.tensor([[1., -1.], [1., -1.]])"
      ],
      "execution_count": null,
      "outputs": [
        {
          "output_type": "execute_result",
          "data": {
            "text/plain": [
              "tensor([[ 1., -1.],\n",
              "        [ 1., -1.]])"
            ]
          },
          "metadata": {},
          "execution_count": 73
        }
      ]
    },
    {
      "cell_type": "code",
      "source": [
        "a = torch.tensor([1,2,3])\n",
        "print(a)"
      ],
      "metadata": {
        "colab": {
          "base_uri": "https://localhost:8080/"
        },
        "id": "FfSduOJjEs0n",
        "outputId": "751c0b69-963a-46fe-a532-2924776fece2"
      },
      "execution_count": null,
      "outputs": [
        {
          "output_type": "stream",
          "name": "stdout",
          "text": [
            "tensor([1, 2, 3])\n"
          ]
        }
      ]
    },
    {
      "cell_type": "code",
      "metadata": {
        "colab": {
          "base_uri": "https://localhost:8080/"
        },
        "id": "_iBjui28ABKj",
        "outputId": "f1bae56a-5b40-4968-8dd5-9cca5335586b"
      },
      "source": [
        "x = torch.rand(5, 4)\n",
        "print(x)"
      ],
      "execution_count": null,
      "outputs": [
        {
          "output_type": "stream",
          "name": "stdout",
          "text": [
            "tensor([[0.0301, 0.5736, 0.3542, 0.9704],\n",
            "        [0.2157, 0.6605, 0.4866, 0.4369],\n",
            "        [0.8935, 0.3767, 0.0434, 0.3960],\n",
            "        [0.8388, 0.7885, 0.0598, 0.7739],\n",
            "        [0.6928, 0.9475, 0.0510, 0.8083]])\n"
          ]
        }
      ]
    },
    {
      "cell_type": "code",
      "metadata": {
        "colab": {
          "base_uri": "https://localhost:8080/"
        },
        "id": "GVrMKE6hAI7n",
        "outputId": "cae7c61d-f8d3-4fd0-dfe8-0e2a987c1625"
      },
      "source": [
        "# Converting numpy arrays to tensors\n",
        "import numpy as np\n",
        "print(torch.tensor(np.array([[1, 2, 3], [4, 5, 6]])))\n",
        "print(torch.tensor(np.array([1,2,3])))"
      ],
      "execution_count": null,
      "outputs": [
        {
          "output_type": "stream",
          "name": "stdout",
          "text": [
            "tensor([[1, 2, 3],\n",
            "        [4, 5, 6]])\n",
            "tensor([1, 2, 3])\n"
          ]
        }
      ]
    },
    {
      "cell_type": "code",
      "metadata": {
        "colab": {
          "base_uri": "https://localhost:8080/"
        },
        "id": "EDGZEyz-B8gt",
        "outputId": "dd1ed88b-ef60-40af-b611-385d1453d3ac"
      },
      "source": [
        "# Converting numpy arrays to tensors\n",
        "np_values = np.array([[1, 2, 3], [4, 5, 6]])\n",
        "\n",
        "tensor_values = torch.from_numpy(np_values)\n",
        "\n",
        "print (tensor_values)"
      ],
      "execution_count": null,
      "outputs": [
        {
          "output_type": "stream",
          "name": "stdout",
          "text": [
            "tensor([[1, 2, 3],\n",
            "        [4, 5, 6]])\n"
          ]
        }
      ]
    },
    {
      "cell_type": "code",
      "metadata": {
        "colab": {
          "base_uri": "https://localhost:8080/"
        },
        "id": "tZBsr0v9CApq",
        "outputId": "c5837db7-277b-4bd7-b1f8-fbf66e25e2fc"
      },
      "source": [
        "# A tensor of specific data type can be constructed by passing a torch.dtype\n",
        "\n",
        "torch.zeros([2, 4], dtype=torch.int32)"
      ],
      "execution_count": null,
      "outputs": [
        {
          "output_type": "execute_result",
          "data": {
            "text/plain": [
              "tensor([[0, 0, 0, 0],\n",
              "        [0, 0, 0, 0]], dtype=torch.int32)"
            ]
          },
          "metadata": {},
          "execution_count": 80
        }
      ]
    },
    {
      "cell_type": "code",
      "source": [
        "torch.ones([3,3])"
      ],
      "metadata": {
        "colab": {
          "base_uri": "https://localhost:8080/"
        },
        "id": "cEjrKQjMFlPI",
        "outputId": "f539339a-a04d-41cf-b061-6bf1e903cd83"
      },
      "execution_count": null,
      "outputs": [
        {
          "output_type": "execute_result",
          "data": {
            "text/plain": [
              "tensor([[1., 1., 1.],\n",
              "        [1., 1., 1.],\n",
              "        [1., 1., 1.]])"
            ]
          },
          "metadata": {},
          "execution_count": 81
        }
      ]
    },
    {
      "cell_type": "code",
      "metadata": {
        "colab": {
          "base_uri": "https://localhost:8080/"
        },
        "id": "t7XjsX6oCCcv",
        "outputId": "9327e51d-5302-46e5-bcab-1c0be7152b45"
      },
      "source": [
        "# The contents of a tensor can be accessed and modified using Python’s indexing and slicing notation:\n",
        "x = torch.tensor([[1, 2, 3], [4, 5, 6]])\n",
        "print(x[0][2])\n",
        "\n",
        "# Modify a certain element\n",
        "x[0][1] = 8\n",
        "print(x)"
      ],
      "execution_count": null,
      "outputs": [
        {
          "output_type": "stream",
          "name": "stdout",
          "text": [
            "tensor(3)\n",
            "tensor([[1, 8, 3],\n",
            "        [4, 5, 6]])\n"
          ]
        }
      ]
    },
    {
      "cell_type": "code",
      "metadata": {
        "colab": {
          "base_uri": "https://localhost:8080/"
        },
        "id": "ZDYYKeexCFPv",
        "outputId": "fa1fb47d-62d8-4457-94c4-83195a4911d4"
      },
      "source": [
        "# Use torch.Tensor.item() to get a Python number from a tensor containing a single value\n",
        "\n",
        "x = torch.tensor([[1]])\n",
        "print (x)\n",
        "\n",
        "print(x.item())\n",
        "\n",
        "x = torch.tensor(2.5)\n",
        "\n",
        "print(x.item())"
      ],
      "execution_count": null,
      "outputs": [
        {
          "output_type": "stream",
          "name": "stdout",
          "text": [
            "tensor([[1]])\n",
            "1\n",
            "2.5\n"
          ]
        }
      ]
    },
    {
      "cell_type": "code",
      "metadata": {
        "colab": {
          "base_uri": "https://localhost:8080/"
        },
        "id": "t9_oXP4YCJ7X",
        "outputId": "9d3b5110-5bb4-441a-9baf-8fb0e2ee98d3"
      },
      "source": [
        "x = torch.tensor([[1, 2, 3], [4, 5, 6]])\n",
        "print(x.size())"
      ],
      "execution_count": null,
      "outputs": [
        {
          "output_type": "stream",
          "name": "stdout",
          "text": [
            "torch.Size([2, 3])\n"
          ]
        }
      ]
    },
    {
      "cell_type": "code",
      "metadata": {
        "colab": {
          "base_uri": "https://localhost:8080/"
        },
        "id": "3yRIixjcCN09",
        "outputId": "2dd5677b-bee3-40b2-ecfe-2bd73d04d424"
      },
      "source": [
        "# Tensor addition & subtraction\n",
        "x = torch.rand(5, 3)\n",
        "y = torch.rand(5, 3)\n",
        "\n",
        "print(x)\n",
        "print(y)\n",
        "\n",
        "print(x + y)\n",
        "print(x - y)ma"
      ],
      "execution_count": null,
      "outputs": [
        {
          "output_type": "stream",
          "name": "stdout",
          "text": [
            "tensor([[0.9365, 0.2817, 0.4693],\n",
            "        [0.8490, 0.9531, 0.6792],\n",
            "        [0.9359, 0.9665, 0.4676],\n",
            "        [0.5986, 0.0448, 0.6475],\n",
            "        [0.2194, 0.6032, 0.9803]])\n",
            "tensor([[0.3623, 0.1171, 0.7549],\n",
            "        [0.3590, 0.3777, 0.6061],\n",
            "        [0.4448, 0.9306, 0.4088],\n",
            "        [0.2944, 0.6492, 0.9925],\n",
            "        [0.0678, 0.0946, 0.6485]])\n",
            "tensor([[1.2988, 0.3988, 1.2242],\n",
            "        [1.2079, 1.3308, 1.2853],\n",
            "        [1.3807, 1.8971, 0.8764],\n",
            "        [0.8930, 0.6940, 1.6400],\n",
            "        [0.2872, 0.6978, 1.6288]])\n",
            "tensor([[ 0.5743,  0.1646, -0.2856],\n",
            "        [ 0.4900,  0.5754,  0.0730],\n",
            "        [ 0.4910,  0.0359,  0.0589],\n",
            "        [ 0.3043, -0.6045, -0.3450],\n",
            "        [ 0.1516,  0.5086,  0.3319]])\n"
          ]
        }
      ]
    },
    {
      "cell_type": "code",
      "metadata": {
        "colab": {
          "base_uri": "https://localhost:8080/"
        },
        "id": "wd9CC6XzCPpg",
        "outputId": "6d3af310-76c4-4c77-bbe7-d9fa6a837c56"
      },
      "source": [
        "# Syntax 2 for Tensor addition & subtraction in PyTorch\n",
        "print(torch.add(x, y))\n",
        "print(torch.sub(x, y))"
      ],
      "execution_count": null,
      "outputs": [
        {
          "output_type": "stream",
          "name": "stdout",
          "text": [
            "tensor([[0.7682, 1.6622, 1.5926],\n",
            "        [0.4518, 1.5748, 1.0312],\n",
            "        [1.0234, 1.6341, 1.0088],\n",
            "        [0.8739, 0.4333, 0.6369],\n",
            "        [0.9130, 1.5716, 1.0837]])\n",
            "tensor([[-0.5354,  0.1980,  0.0660],\n",
            "        [-0.0280, -0.3690,  0.7516],\n",
            "        [ 0.5595,  0.3053,  0.5034],\n",
            "        [-0.2324,  0.2065,  0.4731],\n",
            "        [ 0.7916, -0.1611,  0.7863]])\n"
          ]
        }
      ]
    },
    {
      "cell_type": "code",
      "metadata": {
        "colab": {
          "base_uri": "https://localhost:8080/"
        },
        "id": "hAihCpo7CU0c",
        "outputId": "0a606027-b377-4d3e-d5e0-914d0be3fc85"
      },
      "source": [
        "# Tensor Product & Transpose\n",
        "\n",
        "mat1 = torch.randn(2, 3)\n",
        "mat2 = torch.randn(3, 3)\n",
        "\n",
        "print(mat1)\n",
        "print(mat2)\n",
        "\n",
        "print(torch.mm(mat1, mat2))\n",
        "\n",
        "print(mat1.t())"
      ],
      "execution_count": null,
      "outputs": [
        {
          "output_type": "stream",
          "name": "stdout",
          "text": [
            "tensor([[-0.7973,  0.1136,  1.8127],\n",
            "        [ 0.7322,  0.3296,  0.2570]])\n",
            "tensor([[-0.8258,  1.0713, -0.3133],\n",
            "        [-1.1580, -0.9988, -0.5260],\n",
            "        [-0.8536,  0.4212,  1.0959]])\n",
            "tensor([[-1.0205, -0.2040,  2.1767],\n",
            "        [-1.2057,  0.5636, -0.1211]])\n",
            "tensor([[-0.7973,  0.7322],\n",
            "        [ 0.1136,  0.3296],\n",
            "        [ 1.8127,  0.2570]])\n"
          ]
        }
      ]
    },
    {
      "cell_type": "code",
      "metadata": {
        "colab": {
          "base_uri": "https://localhost:8080/"
        },
        "id": "Mcze4CWRCYD0",
        "outputId": "8a7c4732-bffe-4732-b48c-8508ab8eba39"
      },
      "source": [
        "# Elementwise multiplication\n",
        "t = torch.Tensor([[1, 2], [3, 4]])\n",
        "t.mul(t)"
      ],
      "execution_count": null,
      "outputs": [
        {
          "output_type": "execute_result",
          "data": {
            "text/plain": [
              "tensor([[ 1.,  4.],\n",
              "        [ 9., 16.]])"
            ]
          },
          "metadata": {
            "tags": []
          },
          "execution_count": 67
        }
      ]
    },
    {
      "cell_type": "code",
      "metadata": {
        "colab": {
          "base_uri": "https://localhost:8080/"
        },
        "id": "57OLSgrXCafz",
        "outputId": "0a701d9d-449b-4e2a-d092-79bf465dab60"
      },
      "source": [
        "# Shape, dimensions, and datatype of a tensor object\n",
        "\n",
        "x = torch.rand(5, 3)\n",
        "\n",
        "print('Tensor shape:', x.shape)   # t.size() gives the same\n",
        "print('Number of dimensions:', x.dim())\n",
        "print('Tensor type:', x.type())   # there are other types"
      ],
      "execution_count": null,
      "outputs": [
        {
          "output_type": "stream",
          "name": "stdout",
          "text": [
            "Tensor shape: torch.Size([5, 3])\n",
            "Number of dimensions: 2\n",
            "Tensor type: torch.FloatTensor\n"
          ]
        }
      ]
    },
    {
      "cell_type": "code",
      "metadata": {
        "colab": {
          "base_uri": "https://localhost:8080/"
        },
        "id": "8Ekj2MQpCeIK",
        "outputId": "4d84ef1a-dafa-4629-8e57-f52c2a4477a0"
      },
      "source": [
        "# Slicing\n",
        "t = torch.Tensor([[1, 2, 3], [4, 5, 6], [7, 8, 9]])\n",
        "\n",
        "# Every row, only the last column\n",
        "print(t[:, -1])\n",
        "\n",
        "# First 2 rows, all columns\n",
        "print(t[:2, :])\n",
        "\n",
        "# Lower right most corner\n",
        "print(t[-1:, -1:])"
      ],
      "execution_count": null,
      "outputs": [
        {
          "output_type": "stream",
          "name": "stdout",
          "text": [
            "tensor([3., 6., 9.])\n",
            "tensor([[1., 2., 3.],\n",
            "        [4., 5., 6.]])\n",
            "tensor([[9.]])\n"
          ]
        }
      ]
    },
    {
      "cell_type": "code",
      "source": [
        "import numpy as np"
      ],
      "metadata": {
        "id": "YrkW56qnxMAq"
      },
      "execution_count": null,
      "outputs": []
    },
    {
      "cell_type": "code",
      "source": [
        "a = np.array([1,2,3,4,5])"
      ],
      "metadata": {
        "id": "vI9K1I74xQej"
      },
      "execution_count": null,
      "outputs": []
    },
    {
      "cell_type": "code",
      "source": [
        "print(a[1:4])\n",
        "print(a[1:4:2])\n",
        "print(a[:])\n",
        "print(a[1:])\n",
        "print(a[:5])\n",
        "print(a[0::2])"
      ],
      "metadata": {
        "colab": {
          "base_uri": "https://localhost:8080/"
        },
        "id": "mpfMytOAxWEa",
        "outputId": "79401450-7622-492f-f69e-e4e9616a935d"
      },
      "execution_count": null,
      "outputs": [
        {
          "output_type": "stream",
          "name": "stdout",
          "text": [
            "[2 3 4]\n",
            "[2 4]\n",
            "[1 2 3 4 5]\n",
            "[2 3 4 5]\n",
            "[1 2 3 4 5]\n",
            "[1 3 5]\n"
          ]
        }
      ]
    },
    {
      "cell_type": "code",
      "source": [
        "print(a[-2:-1])\n",
        "print(a[-5:-1])\n",
        "print(a[-4:-1])\n",
        "print(a[-4:-1:2])\n",
        "print(a[-5:])\n",
        "print(a[-1:-4])\n",
        "print(a[:-3])\n",
        "print(a[-5:-5])\n",
        "print(a[-5:-4])\n",
        "print(a[-1:-1])"
      ],
      "metadata": {
        "colab": {
          "base_uri": "https://localhost:8080/"
        },
        "id": "5hdaPGOfxd-u",
        "outputId": "cfd1dc2e-4552-4e8d-cce3-065834999eb7"
      },
      "execution_count": null,
      "outputs": [
        {
          "output_type": "stream",
          "name": "stdout",
          "text": [
            "[4]\n",
            "[1 2 3 4]\n",
            "[2 3 4]\n",
            "[2 4]\n",
            "[1 2 3 4 5]\n",
            "[]\n",
            "[1 2]\n",
            "[]\n",
            "[1]\n",
            "[]\n"
          ]
        }
      ]
    },
    {
      "cell_type": "code",
      "source": [
        "a = np.array([[1,2] , [3,4] , [5,6]])\n",
        "print(a)"
      ],
      "metadata": {
        "colab": {
          "base_uri": "https://localhost:8080/"
        },
        "id": "4p3Pliysy1D-",
        "outputId": "ea211262-36bc-42c4-c3d9-be616b65a9aa"
      },
      "execution_count": null,
      "outputs": [
        {
          "output_type": "stream",
          "name": "stdout",
          "text": [
            "[[1 2]\n",
            " [3 4]\n",
            " [5 6]]\n"
          ]
        }
      ]
    },
    {
      "cell_type": "code",
      "source": [
        "print(a[1: , 1:])\n",
        "print(a[: , :])"
      ],
      "metadata": {
        "colab": {
          "base_uri": "https://localhost:8080/"
        },
        "id": "Q7Vwitb11uCE",
        "outputId": "5fda2a2d-412a-4f96-fa73-ab472e92d816"
      },
      "execution_count": null,
      "outputs": [
        {
          "output_type": "stream",
          "name": "stdout",
          "text": [
            "[[4]\n",
            " [6]]\n",
            "[[1 2]\n",
            " [3 4]\n",
            " [5 6]]\n"
          ]
        }
      ]
    },
    {
      "cell_type": "code",
      "source": [
        "a = np.array([[1,2,3,4] , [5,6,7,8] , [20,30,40,50]])\n",
        "print(a)"
      ],
      "metadata": {
        "colab": {
          "base_uri": "https://localhost:8080/"
        },
        "id": "uFNfNAOp11s6",
        "outputId": "72d00cc9-9ce5-44c7-eb5a-0ae585ea7569"
      },
      "execution_count": null,
      "outputs": [
        {
          "output_type": "stream",
          "name": "stdout",
          "text": [
            "[[ 1  2  3  4]\n",
            " [ 5  6  7  8]\n",
            " [20 30 40 50]]\n"
          ]
        }
      ]
    },
    {
      "cell_type": "code",
      "source": [
        "print(a[1: , 1:])"
      ],
      "metadata": {
        "colab": {
          "base_uri": "https://localhost:8080/"
        },
        "id": "HJW_Vk_42MWi",
        "outputId": "ea40beab-afcd-4c17-b0e5-c0e65019860a"
      },
      "execution_count": null,
      "outputs": [
        {
          "output_type": "stream",
          "name": "stdout",
          "text": [
            "[[ 6  7  8]\n",
            " [30 40 50]]\n"
          ]
        }
      ]
    },
    {
      "cell_type": "code",
      "source": [
        "print(a[:: , ::2])"
      ],
      "metadata": {
        "colab": {
          "base_uri": "https://localhost:8080/"
        },
        "id": "sKjWcDRA2hVA",
        "outputId": "4377b586-e771-40e3-b517-fbe50d535d01"
      },
      "execution_count": null,
      "outputs": [
        {
          "output_type": "stream",
          "name": "stdout",
          "text": [
            "[[ 1  3]\n",
            " [ 5  7]\n",
            " [20 40]]\n"
          ]
        }
      ]
    },
    {
      "cell_type": "code",
      "source": [
        "print(a[1: , 0:2])\n",
        "print(a[0:2 , 1:3])"
      ],
      "metadata": {
        "colab": {
          "base_uri": "https://localhost:8080/"
        },
        "id": "otJdGJ2p2u6j",
        "outputId": "2e3dec44-22d7-4d69-8c13-ae393f430029"
      },
      "execution_count": null,
      "outputs": [
        {
          "output_type": "stream",
          "name": "stdout",
          "text": [
            "[[ 5  6]\n",
            " [20 30]]\n",
            "[[2 3]\n",
            " [6 7]]\n"
          ]
        }
      ]
    },
    {
      "cell_type": "code",
      "source": [
        "print(a[::2 , ::2])"
      ],
      "metadata": {
        "colab": {
          "base_uri": "https://localhost:8080/"
        },
        "id": "3U_T12MF8MRU",
        "outputId": "1aa95fa6-9908-4141-f535-a12b85f3bd35"
      },
      "execution_count": null,
      "outputs": [
        {
          "output_type": "stream",
          "name": "stdout",
          "text": [
            "[[[ 1  2  3  4]\n",
            "  [ 9 10 11 12]]]\n"
          ]
        }
      ]
    },
    {
      "cell_type": "code",
      "source": [
        "a = np.array([\n",
        "              [[1,2,3,4],\n",
        "               [5,6,7,8],\n",
        "               [9,10,11,12]],\n",
        "              \n",
        "              [[13,14,15,16],\n",
        "              [17,18,19,20],\n",
        "              [21,22,23,24]]])\n",
        "print(a)"
      ],
      "metadata": {
        "colab": {
          "base_uri": "https://localhost:8080/"
        },
        "id": "lXvlbcow25gH",
        "outputId": "1a4b0f5b-fd22-4397-a3a9-d1f2893113ab"
      },
      "execution_count": null,
      "outputs": [
        {
          "output_type": "stream",
          "name": "stdout",
          "text": [
            "[[[ 1  2  3  4]\n",
            "  [ 5  6  7  8]\n",
            "  [ 9 10 11 12]]\n",
            "\n",
            " [[13 14 15 16]\n",
            "  [17 18 19 20]\n",
            "  [21 22 23 24]]]\n"
          ]
        }
      ]
    },
    {
      "cell_type": "code",
      "source": [
        "print(a[:,:,:1])"
      ],
      "metadata": {
        "colab": {
          "base_uri": "https://localhost:8080/"
        },
        "id": "tt7uuBmX6TCu",
        "outputId": "63326850-d74b-4046-f0bd-714a3907365d"
      },
      "execution_count": null,
      "outputs": [
        {
          "output_type": "stream",
          "name": "stdout",
          "text": [
            "[[[ 1]\n",
            "  [ 5]\n",
            "  [ 9]]\n",
            "\n",
            " [[13]\n",
            "  [17]\n",
            "  [21]]]\n"
          ]
        }
      ]
    },
    {
      "cell_type": "code",
      "source": [
        "print(a[1: , 1: , :1])"
      ],
      "metadata": {
        "colab": {
          "base_uri": "https://localhost:8080/"
        },
        "id": "PGsH-XFR7YL1",
        "outputId": "52ee86a7-2f93-44d8-9dde-d2dac7348975"
      },
      "execution_count": null,
      "outputs": [
        {
          "output_type": "stream",
          "name": "stdout",
          "text": [
            "[[[17]\n",
            "  [21]]]\n"
          ]
        }
      ]
    },
    {
      "cell_type": "code",
      "source": [
        "arr = np.array([[ [1,2,3] , [4,5,6]] , [[7,8,9] , [10,11,12]]])\n",
        "print(arr)"
      ],
      "metadata": {
        "colab": {
          "base_uri": "https://localhost:8080/"
        },
        "id": "iFHxPSp8EwSR",
        "outputId": "c71c3ca3-9672-4331-ece9-dbad2a86459d"
      },
      "execution_count": null,
      "outputs": [
        {
          "output_type": "stream",
          "name": "stdout",
          "text": [
            "[[[ 1  2  3]\n",
            "  [ 4  5  6]]\n",
            "\n",
            " [[ 7  8  9]\n",
            "  [10 11 12]]]\n"
          ]
        }
      ]
    },
    {
      "cell_type": "code",
      "source": [
        "print(arr[ 1: , 0: , 1: ])\n",
        "print(arr[ 1: , : , 1: ])"
      ],
      "metadata": {
        "colab": {
          "base_uri": "https://localhost:8080/"
        },
        "id": "i4Wdyy5bG3yQ",
        "outputId": "85c8d5e0-5797-4307-a15f-e368a532df47"
      },
      "execution_count": null,
      "outputs": [
        {
          "output_type": "stream",
          "name": "stdout",
          "text": [
            "[[[ 8  9]\n",
            "  [11 12]]]\n",
            "[[[ 8  9]\n",
            "  [11 12]]]\n"
          ]
        }
      ]
    },
    {
      "cell_type": "code",
      "source": [
        "print(arr[0:1 , : , :2])\n",
        "print(arr[0:1 , : , ::2])\n",
        "print(arr[: , : , :2])\n"
      ],
      "metadata": {
        "colab": {
          "base_uri": "https://localhost:8080/"
        },
        "id": "7q2_EloHHFef",
        "outputId": "9847e569-60f5-4651-abb8-a2d16886c0d6"
      },
      "execution_count": null,
      "outputs": [
        {
          "output_type": "stream",
          "name": "stdout",
          "text": [
            "[[[1 2]\n",
            "  [4 5]]]\n",
            "[[[1 3]\n",
            "  [4 6]]]\n",
            "[[[ 1  2]\n",
            "  [ 4  5]]\n",
            "\n",
            " [[ 7  8]\n",
            "  [10 11]]]\n"
          ]
        }
      ]
    },
    {
      "cell_type": "code",
      "source": [
        "a= np.array([\n",
        "             [[1,2,3,4] , \n",
        "              [5,6,7,8] , \n",
        "              [9,10,11,12]] , \n",
        "\n",
        "             [[13,14,15,16],\n",
        "             [19,20,21,22],\n",
        "             [23,24,25,25]]])\n",
        "\n",
        "print(a)"
      ],
      "metadata": {
        "id": "n4WdCDE3HgbA",
        "colab": {
          "base_uri": "https://localhost:8080/"
        },
        "outputId": "76770eca-a59a-453a-b379-aa0803f1d0db"
      },
      "execution_count": 2,
      "outputs": [
        {
          "output_type": "stream",
          "name": "stdout",
          "text": [
            "[[[ 1  2  3  4]\n",
            "  [ 5  6  7  8]\n",
            "  [ 9 10 11 12]]\n",
            "\n",
            " [[13 14 15 16]\n",
            "  [19 20 21 22]\n",
            "  [23 24 25 25]]]\n"
          ]
        }
      ]
    },
    {
      "cell_type": "code",
      "source": [
        "print(a[ : , : , :1])\n",
        "print(a[: , ::2 , 1:3])"
      ],
      "metadata": {
        "colab": {
          "base_uri": "https://localhost:8080/"
        },
        "id": "uKEcRwtbfcsF",
        "outputId": "9373f351-de86-4a00-9ac4-2114785e76cc"
      },
      "execution_count": 3,
      "outputs": [
        {
          "output_type": "stream",
          "name": "stdout",
          "text": [
            "[[[ 1]\n",
            "  [ 5]\n",
            "  [ 9]]\n",
            "\n",
            " [[13]\n",
            "  [19]\n",
            "  [23]]]\n",
            "[[[ 2  3]\n",
            "  [10 11]]\n",
            "\n",
            " [[14 15]\n",
            "  [24 25]]]\n"
          ]
        }
      ]
    },
    {
      "cell_type": "code",
      "source": [
        "print(a[: , : , ::2])"
      ],
      "metadata": {
        "colab": {
          "base_uri": "https://localhost:8080/"
        },
        "id": "ajMCnu6UfeLJ",
        "outputId": "67067fd9-dc4e-49ac-a88d-e843b390577c"
      },
      "execution_count": 4,
      "outputs": [
        {
          "output_type": "stream",
          "name": "stdout",
          "text": [
            "[[[ 1  3]\n",
            "  [ 5  7]\n",
            "  [ 9 11]]\n",
            "\n",
            " [[13 15]\n",
            "  [19 21]\n",
            "  [23 25]]]\n"
          ]
        }
      ]
    },
    {
      "cell_type": "code",
      "source": [
        "print(a[ : , ::2, ::2])"
      ],
      "metadata": {
        "colab": {
          "base_uri": "https://localhost:8080/"
        },
        "id": "-aCr0wlQff63",
        "outputId": "e85e1c7e-dc20-473c-f67e-68b489831c9f"
      },
      "execution_count": 5,
      "outputs": [
        {
          "output_type": "stream",
          "name": "stdout",
          "text": [
            "[[[ 1  3]\n",
            "  [ 9 11]]\n",
            "\n",
            " [[13 15]\n",
            "  [23 25]]]\n"
          ]
        }
      ]
    },
    {
      "cell_type": "code",
      "source": [
        "print(a[1:, 1:, :1])"
      ],
      "metadata": {
        "colab": {
          "base_uri": "https://localhost:8080/"
        },
        "id": "YPUY_hkIfhNy",
        "outputId": "d17a2937-213c-4ab4-d89a-e773d8ea1e2a"
      },
      "execution_count": 6,
      "outputs": [
        {
          "output_type": "stream",
          "name": "stdout",
          "text": [
            "[[[19]\n",
            "  [23]]]\n"
          ]
        }
      ]
    },
    {
      "cell_type": "code",
      "source": [
        ""
      ],
      "metadata": {
        "id": "_5MPjdu9fi1r"
      },
      "execution_count": null,
      "outputs": []
    }
  ]
}