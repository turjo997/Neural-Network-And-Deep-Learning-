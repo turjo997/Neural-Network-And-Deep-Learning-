{
  "nbformat": 4,
  "nbformat_minor": 0,
  "metadata": {
    "colab": {
      "name": "Basic Numpy.ipynb",
      "provenance": [],
      "collapsed_sections": [],
      "authorship_tag": "ABX9TyOBeAdP1coOnedPs1U3mxH5",
      "include_colab_link": true
    },
    "kernelspec": {
      "name": "python3",
      "display_name": "Python 3"
    },
    "language_info": {
      "name": "python"
    },
    "accelerator": "GPU"
  },
  "cells": [
    {
      "cell_type": "markdown",
      "metadata": {
        "id": "view-in-github",
        "colab_type": "text"
      },
      "source": [
        "<a href=\"https://colab.research.google.com/github/turjo997/Neural-Network-And-Deep-Learning-/blob/main/Basic_Numpy.ipynb\" target=\"_parent\"><img src=\"https://colab.research.google.com/assets/colab-badge.svg\" alt=\"Open In Colab\"/></a>"
      ]
    },
    {
      "cell_type": "code",
      "execution_count": 1,
      "metadata": {
        "id": "teFfg_Kduenh"
      },
      "outputs": [],
      "source": [
        "import numpy as np"
      ]
    },
    {
      "cell_type": "code",
      "source": [
        "ar = np.array([1,2,3])\n",
        "print(ar)"
      ],
      "metadata": {
        "colab": {
          "base_uri": "https://localhost:8080/"
        },
        "id": "GlUHE_B8vDrV",
        "outputId": "cd914c41-f958-4633-e2b5-f8916d9d459e"
      },
      "execution_count": 2,
      "outputs": [
        {
          "output_type": "stream",
          "name": "stdout",
          "text": [
            "[1 2 3]\n"
          ]
        }
      ]
    },
    {
      "cell_type": "code",
      "source": [
        "print(type(ar))\n",
        "print(ar.ndim)\n",
        "print(ar.size)\n",
        "print(ar.shape)\n",
        "print(ar.dtype)"
      ],
      "metadata": {
        "colab": {
          "base_uri": "https://localhost:8080/"
        },
        "id": "dpwW3-WnvHjW",
        "outputId": "4714696c-784b-4f62-ef35-d44387db080e"
      },
      "execution_count": 3,
      "outputs": [
        {
          "output_type": "stream",
          "name": "stdout",
          "text": [
            "<class 'numpy.ndarray'>\n",
            "1\n",
            "3\n",
            "(3,)\n",
            "int64\n"
          ]
        }
      ]
    },
    {
      "cell_type": "code",
      "source": [
        "br = np.array([[1,2,3] , [4,5,6]])\n",
        "print(type(br))\n",
        "print(br.ndim)\n",
        "print(br.size)\n",
        "print(br.shape)\n",
        "print(br.dtype)"
      ],
      "metadata": {
        "colab": {
          "base_uri": "https://localhost:8080/"
        },
        "id": "CrneiGvWvNcP",
        "outputId": "4fa198c0-26af-4afb-822d-cdeb0bf7b7d4"
      },
      "execution_count": 4,
      "outputs": [
        {
          "output_type": "stream",
          "name": "stdout",
          "text": [
            "<class 'numpy.ndarray'>\n",
            "2\n",
            "6\n",
            "(2, 3)\n",
            "int64\n"
          ]
        }
      ]
    },
    {
      "cell_type": "code",
      "source": [
        "ones = np.ones((2))\n",
        "print(ones)\n",
        "ones = np.ones((3,4))\n",
        "print(ones)\n",
        "ones = np.ones((3,4) , dtype = int)\n",
        "print(ones)"
      ],
      "metadata": {
        "colab": {
          "base_uri": "https://localhost:8080/"
        },
        "id": "PQEGuGgjvfc1",
        "outputId": "63e8d9aa-c809-453d-b69c-21d4e9904c4e"
      },
      "execution_count": 5,
      "outputs": [
        {
          "output_type": "stream",
          "name": "stdout",
          "text": [
            "[1. 1.]\n",
            "[[1. 1. 1. 1.]\n",
            " [1. 1. 1. 1.]\n",
            " [1. 1. 1. 1.]]\n",
            "[[1 1 1 1]\n",
            " [1 1 1 1]\n",
            " [1 1 1 1]]\n"
          ]
        }
      ]
    },
    {
      "cell_type": "code",
      "source": [
        "zeros = np.zeros((2))\n",
        "print(zeros)\n",
        "zeros = np.zeros((3,4))\n",
        "print(zeros)\n",
        "zeros = np.zeros((3,4) , dtype = int)\n",
        "print(zeros)"
      ],
      "metadata": {
        "colab": {
          "base_uri": "https://localhost:8080/"
        },
        "id": "VSGPLOewwcef",
        "outputId": "1568d88c-2d1d-4073-f462-4b04f0e838cc"
      },
      "execution_count": 6,
      "outputs": [
        {
          "output_type": "stream",
          "name": "stdout",
          "text": [
            "[0. 0.]\n",
            "[[0. 0. 0. 0.]\n",
            " [0. 0. 0. 0.]\n",
            " [0. 0. 0. 0.]]\n",
            "[[0 0 0 0]\n",
            " [0 0 0 0]\n",
            " [0 0 0 0]]\n"
          ]
        }
      ]
    },
    {
      "cell_type": "code",
      "source": [
        "bools = np.zeros((3,4) , dtype = bool)\n",
        "print(bools)"
      ],
      "metadata": {
        "colab": {
          "base_uri": "https://localhost:8080/"
        },
        "id": "rEhdyBEdw0Cb",
        "outputId": "d9f71752-83d6-49eb-bb1d-e3fa7d9b459d"
      },
      "execution_count": 7,
      "outputs": [
        {
          "output_type": "stream",
          "name": "stdout",
          "text": [
            "[[False False False False]\n",
            " [False False False False]\n",
            " [False False False False]]\n"
          ]
        }
      ]
    },
    {
      "cell_type": "code",
      "source": [
        "str = np.zeros((3,4) , dtype = str)\n",
        "print(str)"
      ],
      "metadata": {
        "colab": {
          "base_uri": "https://localhost:8080/"
        },
        "id": "4yPwFRChxS1P",
        "outputId": "2684d22b-a055-40db-a38f-affe990cd092"
      },
      "execution_count": 8,
      "outputs": [
        {
          "output_type": "stream",
          "name": "stdout",
          "text": [
            "[['' '' '' '']\n",
            " ['' '' '' '']\n",
            " ['' '' '' '']]\n"
          ]
        }
      ]
    },
    {
      "cell_type": "code",
      "source": [
        "emp_mx = np.empty((2,2))\n",
        "emp_mx"
      ],
      "metadata": {
        "colab": {
          "base_uri": "https://localhost:8080/"
        },
        "id": "2k9rUKX7xYsn",
        "outputId": "830a0bd2-b696-408f-90b5-7d0eeea383bb"
      },
      "execution_count": 9,
      "outputs": [
        {
          "output_type": "execute_result",
          "data": {
            "text/plain": [
              "array([[5.e-324, 5.e-324],\n",
              "       [5.e-324, 0.e+000]])"
            ]
          },
          "metadata": {},
          "execution_count": 9
        }
      ]
    },
    {
      "cell_type": "code",
      "source": [
        "cr = np.arange(1,15)\n",
        "cr"
      ],
      "metadata": {
        "colab": {
          "base_uri": "https://localhost:8080/"
        },
        "id": "z5825KKRxsI5",
        "outputId": "c17a1280-93d2-4c61-bfba-cdca587d8102"
      },
      "execution_count": 10,
      "outputs": [
        {
          "output_type": "execute_result",
          "data": {
            "text/plain": [
              "array([ 1,  2,  3,  4,  5,  6,  7,  8,  9, 10, 11, 12, 13, 14])"
            ]
          },
          "metadata": {},
          "execution_count": 10
        }
      ]
    },
    {
      "cell_type": "code",
      "source": [
        "cr = np.arange(1,16,2)\n",
        "cr"
      ],
      "metadata": {
        "colab": {
          "base_uri": "https://localhost:8080/"
        },
        "id": "IVjyEvH9x731",
        "outputId": "31f1ceb0-0fc4-4e93-bd5d-6f9f85bd72db"
      },
      "execution_count": 11,
      "outputs": [
        {
          "output_type": "execute_result",
          "data": {
            "text/plain": [
              "array([ 1,  3,  5,  7,  9, 11, 13, 15])"
            ]
          },
          "metadata": {},
          "execution_count": 11
        }
      ]
    },
    {
      "cell_type": "code",
      "source": [
        "np.linspace(1,10,8)"
      ],
      "metadata": {
        "colab": {
          "base_uri": "https://localhost:8080/"
        },
        "id": "EB9LywHXyD6O",
        "outputId": "a6562ada-3de9-4686-d797-316481631187"
      },
      "execution_count": 12,
      "outputs": [
        {
          "output_type": "execute_result",
          "data": {
            "text/plain": [
              "array([ 1.        ,  2.28571429,  3.57142857,  4.85714286,  6.14285714,\n",
              "        7.42857143,  8.71428571, 10.        ])"
            ]
          },
          "metadata": {},
          "execution_count": 12
        }
      ]
    },
    {
      "cell_type": "code",
      "source": [
        "ar_1d = np.arange(1,13)\n",
        "ar_2d = ar_1d.reshape(2,6)\n",
        "ar_2d"
      ],
      "metadata": {
        "colab": {
          "base_uri": "https://localhost:8080/"
        },
        "id": "VNGp_lggyQ6M",
        "outputId": "777dae85-ee0f-4699-8c93-ecb8dfa47b12"
      },
      "execution_count": 13,
      "outputs": [
        {
          "output_type": "execute_result",
          "data": {
            "text/plain": [
              "array([[ 1,  2,  3,  4,  5,  6],\n",
              "       [ 7,  8,  9, 10, 11, 12]])"
            ]
          },
          "metadata": {},
          "execution_count": 13
        }
      ]
    },
    {
      "cell_type": "code",
      "source": [
        "ar_3d = ar_1d.reshape(2 , 3,2)\n",
        "print(ar_3d)\n",
        "\n",
        "ar_3d = ar_1d.reshape(2 , 1,6)\n",
        "print(ar_3d)\n",
        "\n",
        "ar_3d = ar_1d.reshape(1 , 1,12)\n",
        "print(ar_3d)\n",
        "\n",
        "ar_3d = ar_1d.reshape(3 , 2,2)\n",
        "print(ar_3d)"
      ],
      "metadata": {
        "colab": {
          "base_uri": "https://localhost:8080/"
        },
        "id": "CfBWV05vytbW",
        "outputId": "c32b3730-9e07-4171-f828-de2ca0ea41db"
      },
      "execution_count": 14,
      "outputs": [
        {
          "output_type": "stream",
          "name": "stdout",
          "text": [
            "[[[ 1  2]\n",
            "  [ 3  4]\n",
            "  [ 5  6]]\n",
            "\n",
            " [[ 7  8]\n",
            "  [ 9 10]\n",
            "  [11 12]]]\n",
            "[[[ 1  2  3  4  5  6]]\n",
            "\n",
            " [[ 7  8  9 10 11 12]]]\n",
            "[[[ 1  2  3  4  5  6  7  8  9 10 11 12]]]\n",
            "[[[ 1  2]\n",
            "  [ 3  4]]\n",
            "\n",
            " [[ 5  6]\n",
            "  [ 7  8]]\n",
            "\n",
            " [[ 9 10]\n",
            "  [11 12]]]\n"
          ]
        }
      ]
    },
    {
      "cell_type": "code",
      "source": [
        "ar = np.arange(1 , 13) . reshape(2 , 6);\n",
        "ar"
      ],
      "metadata": {
        "colab": {
          "base_uri": "https://localhost:8080/"
        },
        "id": "TJorEnyhzIew",
        "outputId": "7c76a284-d2fb-4560-88ab-df9e0d7f90a8"
      },
      "execution_count": 15,
      "outputs": [
        {
          "output_type": "execute_result",
          "data": {
            "text/plain": [
              "array([[ 1,  2,  3,  4,  5,  6],\n",
              "       [ 7,  8,  9, 10, 11, 12]])"
            ]
          },
          "metadata": {},
          "execution_count": 15
        }
      ]
    },
    {
      "cell_type": "code",
      "source": [
        "ar.ravel() # converts 2D array to 1D array "
      ],
      "metadata": {
        "colab": {
          "base_uri": "https://localhost:8080/"
        },
        "id": "CDweuJgVz0vl",
        "outputId": "e416862a-0aa3-4628-9e57-5f206a4762f3"
      },
      "execution_count": 16,
      "outputs": [
        {
          "output_type": "execute_result",
          "data": {
            "text/plain": [
              "array([ 1,  2,  3,  4,  5,  6,  7,  8,  9, 10, 11, 12])"
            ]
          },
          "metadata": {},
          "execution_count": 16
        }
      ]
    },
    {
      "cell_type": "code",
      "source": [
        "ar.flatten()"
      ],
      "metadata": {
        "colab": {
          "base_uri": "https://localhost:8080/"
        },
        "id": "WkPO8UY_z_dm",
        "outputId": "0c4a254d-d787-4bba-84f3-9f97c7f238a9"
      },
      "execution_count": 17,
      "outputs": [
        {
          "output_type": "execute_result",
          "data": {
            "text/plain": [
              "array([ 1,  2,  3,  4,  5,  6,  7,  8,  9, 10, 11, 12])"
            ]
          },
          "metadata": {},
          "execution_count": 17
        }
      ]
    },
    {
      "cell_type": "code",
      "source": [
        "ar.transpose()"
      ],
      "metadata": {
        "colab": {
          "base_uri": "https://localhost:8080/"
        },
        "id": "xiLbdy2F1nzP",
        "outputId": "4d8ec3dc-78a1-4ea4-b9a8-767f439c9079"
      },
      "execution_count": 18,
      "outputs": [
        {
          "output_type": "execute_result",
          "data": {
            "text/plain": [
              "array([[ 1,  7],\n",
              "       [ 2,  8],\n",
              "       [ 3,  9],\n",
              "       [ 4, 10],\n",
              "       [ 5, 11],\n",
              "       [ 6, 12]])"
            ]
          },
          "metadata": {},
          "execution_count": 18
        }
      ]
    },
    {
      "cell_type": "code",
      "source": [
        "ar"
      ],
      "metadata": {
        "colab": {
          "base_uri": "https://localhost:8080/"
        },
        "id": "Hwqd-baW2YF4",
        "outputId": "d686cccc-829d-4f5e-8462-59fa42d35576"
      },
      "execution_count": 19,
      "outputs": [
        {
          "output_type": "execute_result",
          "data": {
            "text/plain": [
              "array([[ 1,  2,  3,  4,  5,  6],\n",
              "       [ 7,  8,  9, 10, 11, 12]])"
            ]
          },
          "metadata": {},
          "execution_count": 19
        }
      ]
    },
    {
      "cell_type": "code",
      "source": [
        "ar.T"
      ],
      "metadata": {
        "colab": {
          "base_uri": "https://localhost:8080/"
        },
        "id": "QihbaYqX2fpp",
        "outputId": "d973a8ea-0dff-4388-c725-68b93c329371"
      },
      "execution_count": 20,
      "outputs": [
        {
          "output_type": "execute_result",
          "data": {
            "text/plain": [
              "array([[ 1,  7],\n",
              "       [ 2,  8],\n",
              "       [ 3,  9],\n",
              "       [ 4, 10],\n",
              "       [ 5, 11],\n",
              "       [ 6, 12]])"
            ]
          },
          "metadata": {},
          "execution_count": 20
        }
      ]
    },
    {
      "cell_type": "code",
      "source": [
        "arr1 = np.arange(1,10).reshape(3,3)\n",
        "arr2 = np.arange(11,20).reshape(3,3)\n",
        "\n",
        "print(arr1)\n",
        "print(arr2)"
      ],
      "metadata": {
        "id": "5s1Xn---27xk",
        "colab": {
          "base_uri": "https://localhost:8080/"
        },
        "outputId": "8aa4a3a1-4697-4a31-ad3a-70cd4b924a5f"
      },
      "execution_count": 21,
      "outputs": [
        {
          "output_type": "stream",
          "name": "stdout",
          "text": [
            "[[1 2 3]\n",
            " [4 5 6]\n",
            " [7 8 9]]\n",
            "[[11 12 13]\n",
            " [14 15 16]\n",
            " [17 18 19]]\n"
          ]
        }
      ]
    },
    {
      "cell_type": "code",
      "source": [
        "print(arr1 + arr2)\n",
        "print(np.add(arr1 , arr2))"
      ],
      "metadata": {
        "id": "hBb-ObIo3ODh",
        "colab": {
          "base_uri": "https://localhost:8080/"
        },
        "outputId": "d25cfc7b-66b6-4f07-f4b6-a4adac2826e4"
      },
      "execution_count": 22,
      "outputs": [
        {
          "output_type": "stream",
          "name": "stdout",
          "text": [
            "[[12 14 16]\n",
            " [18 20 22]\n",
            " [24 26 28]]\n",
            "[[12 14 16]\n",
            " [18 20 22]\n",
            " [24 26 28]]\n"
          ]
        }
      ]
    },
    {
      "cell_type": "code",
      "source": [
        "print(arr1 - arr2)\n",
        "print(np.subtract(arr1 , arr2))"
      ],
      "metadata": {
        "id": "Q7f3hkiL3Soj",
        "colab": {
          "base_uri": "https://localhost:8080/"
        },
        "outputId": "f77462d0-618d-4937-89f8-0ec0c6025a75"
      },
      "execution_count": 23,
      "outputs": [
        {
          "output_type": "stream",
          "name": "stdout",
          "text": [
            "[[-10 -10 -10]\n",
            " [-10 -10 -10]\n",
            " [-10 -10 -10]]\n",
            "[[-10 -10 -10]\n",
            " [-10 -10 -10]\n",
            " [-10 -10 -10]]\n"
          ]
        }
      ]
    },
    {
      "cell_type": "code",
      "source": [
        "print(arr1 * arr2)\n",
        "print(np.multiply(arr1 , arr2))"
      ],
      "metadata": {
        "id": "IxnSXfKA3Z93",
        "colab": {
          "base_uri": "https://localhost:8080/"
        },
        "outputId": "691a5f4d-f643-408e-f083-8ab209cd9ea7"
      },
      "execution_count": 24,
      "outputs": [
        {
          "output_type": "stream",
          "name": "stdout",
          "text": [
            "[[ 11  24  39]\n",
            " [ 56  75  96]\n",
            " [119 144 171]]\n",
            "[[ 11  24  39]\n",
            " [ 56  75  96]\n",
            " [119 144 171]]\n"
          ]
        }
      ]
    },
    {
      "cell_type": "code",
      "source": [
        "print(arr1 / arr2)\n",
        "print(np.divide(arr1 , arr2))"
      ],
      "metadata": {
        "id": "xJLwwqJf3klR",
        "colab": {
          "base_uri": "https://localhost:8080/"
        },
        "outputId": "66ca3c32-ce23-4a28-9ddd-939c9268a0ec"
      },
      "execution_count": 25,
      "outputs": [
        {
          "output_type": "stream",
          "name": "stdout",
          "text": [
            "[[0.09090909 0.16666667 0.23076923]\n",
            " [0.28571429 0.33333333 0.375     ]\n",
            " [0.41176471 0.44444444 0.47368421]]\n",
            "[[0.09090909 0.16666667 0.23076923]\n",
            " [0.28571429 0.33333333 0.375     ]\n",
            " [0.41176471 0.44444444 0.47368421]]\n"
          ]
        }
      ]
    },
    {
      "cell_type": "code",
      "source": [
        "arr1 @ arr2 # matrix product"
      ],
      "metadata": {
        "id": "ohvIM8tp3nNg",
        "colab": {
          "base_uri": "https://localhost:8080/"
        },
        "outputId": "082601f1-1dbc-4cb2-b939-7209b03e1558"
      },
      "execution_count": 26,
      "outputs": [
        {
          "output_type": "execute_result",
          "data": {
            "text/plain": [
              "array([[ 90,  96, 102],\n",
              "       [216, 231, 246],\n",
              "       [342, 366, 390]])"
            ]
          },
          "metadata": {},
          "execution_count": 26
        }
      ]
    },
    {
      "cell_type": "code",
      "source": [
        "arr1.dot(arr2)"
      ],
      "metadata": {
        "id": "4UCPkTAs316p",
        "colab": {
          "base_uri": "https://localhost:8080/"
        },
        "outputId": "a93eedd0-b1f4-4ca1-9d0d-54584daca31e"
      },
      "execution_count": 27,
      "outputs": [
        {
          "output_type": "execute_result",
          "data": {
            "text/plain": [
              "array([[ 90,  96, 102],\n",
              "       [216, 231, 246],\n",
              "       [342, 366, 390]])"
            ]
          },
          "metadata": {},
          "execution_count": 27
        }
      ]
    },
    {
      "cell_type": "code",
      "source": [
        "arr1"
      ],
      "metadata": {
        "id": "QkmrsGVP4Blc",
        "colab": {
          "base_uri": "https://localhost:8080/"
        },
        "outputId": "1a4816ae-21fd-4797-c489-38064edd269b"
      },
      "execution_count": 28,
      "outputs": [
        {
          "output_type": "execute_result",
          "data": {
            "text/plain": [
              "array([[1, 2, 3],\n",
              "       [4, 5, 6],\n",
              "       [7, 8, 9]])"
            ]
          },
          "metadata": {},
          "execution_count": 28
        }
      ]
    },
    {
      "cell_type": "code",
      "source": [
        "arr1.max()"
      ],
      "metadata": {
        "id": "IVpAdT90RG8G",
        "colab": {
          "base_uri": "https://localhost:8080/"
        },
        "outputId": "342bd7fb-edd9-4e2f-8138-a28de62197cf"
      },
      "execution_count": 29,
      "outputs": [
        {
          "output_type": "execute_result",
          "data": {
            "text/plain": [
              "9"
            ]
          },
          "metadata": {},
          "execution_count": 29
        }
      ]
    },
    {
      "cell_type": "code",
      "source": [
        "arr1.argmax()"
      ],
      "metadata": {
        "id": "03lTEPDzRIyw",
        "colab": {
          "base_uri": "https://localhost:8080/"
        },
        "outputId": "874afd41-59af-42a2-b545-0a01c1870ff4"
      },
      "execution_count": 30,
      "outputs": [
        {
          "output_type": "execute_result",
          "data": {
            "text/plain": [
              "8"
            ]
          },
          "metadata": {},
          "execution_count": 30
        }
      ]
    },
    {
      "cell_type": "code",
      "source": [
        "print(arr1.max(axis = 0))\n",
        "print(arr1.max(axis = 1))"
      ],
      "metadata": {
        "id": "i7lYBjqCRSDI",
        "colab": {
          "base_uri": "https://localhost:8080/"
        },
        "outputId": "c8ba9f4b-5790-4518-9f61-41c08f7d9e08"
      },
      "execution_count": 31,
      "outputs": [
        {
          "output_type": "stream",
          "name": "stdout",
          "text": [
            "[7 8 9]\n",
            "[3 6 9]\n"
          ]
        }
      ]
    },
    {
      "cell_type": "code",
      "source": [
        "print(arr1.min())\n",
        "print(arr1.argmin())"
      ],
      "metadata": {
        "id": "7FSbg4m3RheJ",
        "colab": {
          "base_uri": "https://localhost:8080/"
        },
        "outputId": "0a23a6fd-43d8-46be-eda4-00726badb2b9"
      },
      "execution_count": 32,
      "outputs": [
        {
          "output_type": "stream",
          "name": "stdout",
          "text": [
            "1\n",
            "0\n"
          ]
        }
      ]
    },
    {
      "cell_type": "code",
      "source": [
        "print(arr1.min(axis = 0))\n",
        "print(arr1.min(axis = 1))"
      ],
      "metadata": {
        "id": "olbUH5cFRuQV",
        "colab": {
          "base_uri": "https://localhost:8080/"
        },
        "outputId": "cd6ed984-201e-4dcd-f120-290d4865e224"
      },
      "execution_count": 33,
      "outputs": [
        {
          "output_type": "stream",
          "name": "stdout",
          "text": [
            "[1 2 3]\n",
            "[1 4 7]\n"
          ]
        }
      ]
    },
    {
      "cell_type": "code",
      "source": [
        "print(np.sum(arr1))\n",
        "print(np.sum(arr1 , axis = 0))\n",
        "print(np.sum(arr1 , axis = 1))"
      ],
      "metadata": {
        "id": "Jd75zTesRyd2",
        "colab": {
          "base_uri": "https://localhost:8080/"
        },
        "outputId": "5199d3ad-95bf-4b5e-8020-b6b640314bbf"
      },
      "execution_count": 34,
      "outputs": [
        {
          "output_type": "stream",
          "name": "stdout",
          "text": [
            "45\n",
            "[12 15 18]\n",
            "[ 6 15 24]\n"
          ]
        }
      ]
    },
    {
      "cell_type": "code",
      "source": [
        "np.mean(arr1)"
      ],
      "metadata": {
        "id": "PRdUJmOvR-VG",
        "colab": {
          "base_uri": "https://localhost:8080/"
        },
        "outputId": "16b9a9d9-897d-4b5b-d8f9-4356a0319556"
      },
      "execution_count": 35,
      "outputs": [
        {
          "output_type": "execute_result",
          "data": {
            "text/plain": [
              "5.0"
            ]
          },
          "metadata": {},
          "execution_count": 35
        }
      ]
    },
    {
      "cell_type": "code",
      "source": [
        "np.sqrt(arr1)"
      ],
      "metadata": {
        "id": "Z3K_kknHSJow",
        "colab": {
          "base_uri": "https://localhost:8080/"
        },
        "outputId": "3cac52a8-dbbc-44ad-8128-568271452733"
      },
      "execution_count": 36,
      "outputs": [
        {
          "output_type": "execute_result",
          "data": {
            "text/plain": [
              "array([[1.        , 1.41421356, 1.73205081],\n",
              "       [2.        , 2.23606798, 2.44948974],\n",
              "       [2.64575131, 2.82842712, 3.        ]])"
            ]
          },
          "metadata": {},
          "execution_count": 36
        }
      ]
    },
    {
      "cell_type": "code",
      "source": [
        "np.std(arr1)"
      ],
      "metadata": {
        "id": "DAcTxCwzSPUm",
        "colab": {
          "base_uri": "https://localhost:8080/"
        },
        "outputId": "12673f2e-2a30-4e79-bc8e-4f9e2aaa1bba"
      },
      "execution_count": 37,
      "outputs": [
        {
          "output_type": "execute_result",
          "data": {
            "text/plain": [
              "2.581988897471611"
            ]
          },
          "metadata": {},
          "execution_count": 37
        }
      ]
    },
    {
      "cell_type": "code",
      "source": [
        "np.exp(arr1)"
      ],
      "metadata": {
        "id": "nyqe4x5LSTXj",
        "colab": {
          "base_uri": "https://localhost:8080/"
        },
        "outputId": "7a5fc853-04f0-45ed-c865-ce0a3af0d3c4"
      },
      "execution_count": 38,
      "outputs": [
        {
          "output_type": "execute_result",
          "data": {
            "text/plain": [
              "array([[2.71828183e+00, 7.38905610e+00, 2.00855369e+01],\n",
              "       [5.45981500e+01, 1.48413159e+02, 4.03428793e+02],\n",
              "       [1.09663316e+03, 2.98095799e+03, 8.10308393e+03]])"
            ]
          },
          "metadata": {},
          "execution_count": 38
        }
      ]
    },
    {
      "cell_type": "code",
      "source": [
        "np.log(arr1)"
      ],
      "metadata": {
        "id": "KE7K1DB8SXdn",
        "colab": {
          "base_uri": "https://localhost:8080/"
        },
        "outputId": "0233e48f-6286-4404-c2f6-b23f4a06e188"
      },
      "execution_count": 39,
      "outputs": [
        {
          "output_type": "execute_result",
          "data": {
            "text/plain": [
              "array([[0.        , 0.69314718, 1.09861229],\n",
              "       [1.38629436, 1.60943791, 1.79175947],\n",
              "       [1.94591015, 2.07944154, 2.19722458]])"
            ]
          },
          "metadata": {},
          "execution_count": 39
        }
      ]
    },
    {
      "cell_type": "code",
      "source": [
        "np.log10(arr1)"
      ],
      "metadata": {
        "id": "BnbitlRWScBQ",
        "colab": {
          "base_uri": "https://localhost:8080/"
        },
        "outputId": "da1966fd-6899-4a89-805d-fc81db868a13"
      },
      "execution_count": 40,
      "outputs": [
        {
          "output_type": "execute_result",
          "data": {
            "text/plain": [
              "array([[0.        , 0.30103   , 0.47712125],\n",
              "       [0.60205999, 0.69897   , 0.77815125],\n",
              "       [0.84509804, 0.90308999, 0.95424251]])"
            ]
          },
          "metadata": {},
          "execution_count": 40
        }
      ]
    },
    {
      "cell_type": "code",
      "source": [
        "arr1 = np.arange(1,17).reshape(4,4)\n",
        "arr2 = np.arange(17,33).reshape(4,4)\n",
        "\n",
        "print(arr1)\n",
        "print(arr2)"
      ],
      "metadata": {
        "id": "ReIZtNIhSd2t",
        "colab": {
          "base_uri": "https://localhost:8080/"
        },
        "outputId": "723c819a-946e-44f8-ed75-02ab43c91577"
      },
      "execution_count": 41,
      "outputs": [
        {
          "output_type": "stream",
          "name": "stdout",
          "text": [
            "[[ 1  2  3  4]\n",
            " [ 5  6  7  8]\n",
            " [ 9 10 11 12]\n",
            " [13 14 15 16]]\n",
            "[[17 18 19 20]\n",
            " [21 22 23 24]\n",
            " [25 26 27 28]\n",
            " [29 30 31 32]]\n"
          ]
        }
      ]
    },
    {
      "cell_type": "code",
      "source": [
        "np.concatenate((arr1 , arr2))"
      ],
      "metadata": {
        "id": "uwF6YJYQYMkm",
        "colab": {
          "base_uri": "https://localhost:8080/"
        },
        "outputId": "00b0de9b-b2d2-496a-8b23-68e619c01a64"
      },
      "execution_count": 42,
      "outputs": [
        {
          "output_type": "execute_result",
          "data": {
            "text/plain": [
              "array([[ 1,  2,  3,  4],\n",
              "       [ 5,  6,  7,  8],\n",
              "       [ 9, 10, 11, 12],\n",
              "       [13, 14, 15, 16],\n",
              "       [17, 18, 19, 20],\n",
              "       [21, 22, 23, 24],\n",
              "       [25, 26, 27, 28],\n",
              "       [29, 30, 31, 32]])"
            ]
          },
          "metadata": {},
          "execution_count": 42
        }
      ]
    },
    {
      "cell_type": "code",
      "source": [
        "np.concatenate((arr1 , arr2) , axis = 0)"
      ],
      "metadata": {
        "id": "qo4ehkOVYs7Z",
        "colab": {
          "base_uri": "https://localhost:8080/"
        },
        "outputId": "5be42d6d-2ebd-4d1a-efc1-366f0e492184"
      },
      "execution_count": 43,
      "outputs": [
        {
          "output_type": "execute_result",
          "data": {
            "text/plain": [
              "array([[ 1,  2,  3,  4],\n",
              "       [ 5,  6,  7,  8],\n",
              "       [ 9, 10, 11, 12],\n",
              "       [13, 14, 15, 16],\n",
              "       [17, 18, 19, 20],\n",
              "       [21, 22, 23, 24],\n",
              "       [25, 26, 27, 28],\n",
              "       [29, 30, 31, 32]])"
            ]
          },
          "metadata": {},
          "execution_count": 43
        }
      ]
    },
    {
      "cell_type": "code",
      "source": [
        "np.concatenate((arr1 , arr2) , axis = 1)"
      ],
      "metadata": {
        "id": "5oyjtBMuY4vK",
        "colab": {
          "base_uri": "https://localhost:8080/"
        },
        "outputId": "3ed16212-9fcc-4f2b-af07-0011e4f6d840"
      },
      "execution_count": 44,
      "outputs": [
        {
          "output_type": "execute_result",
          "data": {
            "text/plain": [
              "array([[ 1,  2,  3,  4, 17, 18, 19, 20],\n",
              "       [ 5,  6,  7,  8, 21, 22, 23, 24],\n",
              "       [ 9, 10, 11, 12, 25, 26, 27, 28],\n",
              "       [13, 14, 15, 16, 29, 30, 31, 32]])"
            ]
          },
          "metadata": {},
          "execution_count": 44
        }
      ]
    },
    {
      "cell_type": "code",
      "source": [
        "np.vstack((arr1 , arr2)) # vertical stack"
      ],
      "metadata": {
        "id": "2DX_FGRyY9dF",
        "colab": {
          "base_uri": "https://localhost:8080/"
        },
        "outputId": "30ace730-11d5-4106-a0dc-dd4897a51fc3"
      },
      "execution_count": 45,
      "outputs": [
        {
          "output_type": "execute_result",
          "data": {
            "text/plain": [
              "array([[ 1,  2,  3,  4],\n",
              "       [ 5,  6,  7,  8],\n",
              "       [ 9, 10, 11, 12],\n",
              "       [13, 14, 15, 16],\n",
              "       [17, 18, 19, 20],\n",
              "       [21, 22, 23, 24],\n",
              "       [25, 26, 27, 28],\n",
              "       [29, 30, 31, 32]])"
            ]
          },
          "metadata": {},
          "execution_count": 45
        }
      ]
    },
    {
      "cell_type": "code",
      "source": [
        "np.hstack((arr1 , arr2 , arr1)) # horizintal stack"
      ],
      "metadata": {
        "id": "6NczbyZlZJ9R",
        "colab": {
          "base_uri": "https://localhost:8080/"
        },
        "outputId": "e6c6ec63-7635-438e-ca18-a6d3fc3a8dde"
      },
      "execution_count": 46,
      "outputs": [
        {
          "output_type": "execute_result",
          "data": {
            "text/plain": [
              "array([[ 1,  2,  3,  4, 17, 18, 19, 20,  1,  2,  3,  4],\n",
              "       [ 5,  6,  7,  8, 21, 22, 23, 24,  5,  6,  7,  8],\n",
              "       [ 9, 10, 11, 12, 25, 26, 27, 28,  9, 10, 11, 12],\n",
              "       [13, 14, 15, 16, 29, 30, 31, 32, 13, 14, 15, 16]])"
            ]
          },
          "metadata": {},
          "execution_count": 46
        }
      ]
    },
    {
      "cell_type": "code",
      "source": [
        "np.split(arr1 , 2)"
      ],
      "metadata": {
        "id": "rjSWFu4cZWS6",
        "colab": {
          "base_uri": "https://localhost:8080/"
        },
        "outputId": "2b55081c-9988-47cd-db10-b54604cf35a5"
      },
      "execution_count": 47,
      "outputs": [
        {
          "output_type": "execute_result",
          "data": {
            "text/plain": [
              "[array([[1, 2, 3, 4],\n",
              "        [5, 6, 7, 8]]), array([[ 9, 10, 11, 12],\n",
              "        [13, 14, 15, 16]])]"
            ]
          },
          "metadata": {},
          "execution_count": 47
        }
      ]
    },
    {
      "cell_type": "code",
      "source": [
        "np.split(arr1 , 4)"
      ],
      "metadata": {
        "id": "AGqMF90NZkYs",
        "colab": {
          "base_uri": "https://localhost:8080/"
        },
        "outputId": "9634e72f-3415-4161-f0d8-9b7ff9c0e1b6"
      },
      "execution_count": 48,
      "outputs": [
        {
          "output_type": "execute_result",
          "data": {
            "text/plain": [
              "[array([[1, 2, 3, 4]]),\n",
              " array([[5, 6, 7, 8]]),\n",
              " array([[ 9, 10, 11, 12]]),\n",
              " array([[13, 14, 15, 16]])]"
            ]
          },
          "metadata": {},
          "execution_count": 48
        }
      ]
    },
    {
      "cell_type": "code",
      "source": [
        "list = np.split(arr1 , 2)"
      ],
      "metadata": {
        "id": "3_Rf7BxLZnJG"
      },
      "execution_count": 49,
      "outputs": []
    },
    {
      "cell_type": "code",
      "source": [
        "list"
      ],
      "metadata": {
        "id": "7hcI7vqCZ7oc",
        "colab": {
          "base_uri": "https://localhost:8080/"
        },
        "outputId": "e5dc8314-fc34-489e-9730-20f5656f5d14"
      },
      "execution_count": 50,
      "outputs": [
        {
          "output_type": "execute_result",
          "data": {
            "text/plain": [
              "[array([[1, 2, 3, 4],\n",
              "        [5, 6, 7, 8]]), array([[ 9, 10, 11, 12],\n",
              "        [13, 14, 15, 16]])]"
            ]
          },
          "metadata": {},
          "execution_count": 50
        }
      ]
    },
    {
      "cell_type": "code",
      "source": [
        "type(list)"
      ],
      "metadata": {
        "id": "rJyqDri8Z8yz",
        "colab": {
          "base_uri": "https://localhost:8080/"
        },
        "outputId": "55a44d28-b2f1-412f-bcb3-14e121f433c5"
      },
      "execution_count": 51,
      "outputs": [
        {
          "output_type": "execute_result",
          "data": {
            "text/plain": [
              "list"
            ]
          },
          "metadata": {},
          "execution_count": 51
        }
      ]
    },
    {
      "cell_type": "code",
      "source": [
        "list[0]"
      ],
      "metadata": {
        "id": "5k8WQUeBaDKq",
        "colab": {
          "base_uri": "https://localhost:8080/"
        },
        "outputId": "6cea34ff-1d28-431f-c276-8548a2f047bd"
      },
      "execution_count": 52,
      "outputs": [
        {
          "output_type": "execute_result",
          "data": {
            "text/plain": [
              "array([[1, 2, 3, 4],\n",
              "       [5, 6, 7, 8]])"
            ]
          },
          "metadata": {},
          "execution_count": 52
        }
      ]
    },
    {
      "cell_type": "code",
      "source": [
        "type(list[0])"
      ],
      "metadata": {
        "id": "k1x3m4_aaKpc",
        "colab": {
          "base_uri": "https://localhost:8080/"
        },
        "outputId": "c72c155f-ec94-44bc-e468-eb4001879b3e"
      },
      "execution_count": 53,
      "outputs": [
        {
          "output_type": "execute_result",
          "data": {
            "text/plain": [
              "numpy.ndarray"
            ]
          },
          "metadata": {},
          "execution_count": 53
        }
      ]
    },
    {
      "cell_type": "code",
      "source": [
        "np.split(arr1 , 2 , axis = 1)"
      ],
      "metadata": {
        "id": "-8bwao3vaN30",
        "colab": {
          "base_uri": "https://localhost:8080/"
        },
        "outputId": "5c297585-d5d2-48d1-fa7f-0e216f93793f"
      },
      "execution_count": 54,
      "outputs": [
        {
          "output_type": "execute_result",
          "data": {
            "text/plain": [
              "[array([[ 1,  2],\n",
              "        [ 5,  6],\n",
              "        [ 9, 10],\n",
              "        [13, 14]]), array([[ 3,  4],\n",
              "        [ 7,  8],\n",
              "        [11, 12],\n",
              "        [15, 16]])]"
            ]
          },
          "metadata": {},
          "execution_count": 54
        }
      ]
    },
    {
      "cell_type": "code",
      "source": [
        "d = np.array([1,2,3,4,5])"
      ],
      "metadata": {
        "id": "yAs34OYuaqZm"
      },
      "execution_count": 55,
      "outputs": []
    },
    {
      "cell_type": "code",
      "source": [
        "np.split(d , [1,3])"
      ],
      "metadata": {
        "id": "VYrChNFhayZm",
        "colab": {
          "base_uri": "https://localhost:8080/"
        },
        "outputId": "d6e7abaf-0dd4-43a2-c82b-0cba9a045bab"
      },
      "execution_count": 56,
      "outputs": [
        {
          "output_type": "execute_result",
          "data": {
            "text/plain": [
              "[array([1]), array([2, 3]), array([4, 5])]"
            ]
          },
          "metadata": {},
          "execution_count": 56
        }
      ]
    },
    {
      "cell_type": "code",
      "source": [
        "import matplotlib.pyplot as plt"
      ],
      "metadata": {
        "id": "aZNesqria8KL"
      },
      "execution_count": 57,
      "outputs": []
    },
    {
      "cell_type": "code",
      "source": [
        "np.sin(90)"
      ],
      "metadata": {
        "id": "55LOKPZedvY5",
        "colab": {
          "base_uri": "https://localhost:8080/"
        },
        "outputId": "f8ce38d7-56ca-4928-a674-7906c26329f4"
      },
      "execution_count": 58,
      "outputs": [
        {
          "output_type": "execute_result",
          "data": {
            "text/plain": [
              "0.8939966636005579"
            ]
          },
          "metadata": {},
          "execution_count": 58
        }
      ]
    },
    {
      "cell_type": "code",
      "source": [
        "np.sin(180)"
      ],
      "metadata": {
        "id": "MqSZN4isd56e",
        "colab": {
          "base_uri": "https://localhost:8080/"
        },
        "outputId": "8e32d404-907f-45b6-fa22-e5b7258df02d"
      },
      "execution_count": 59,
      "outputs": [
        {
          "output_type": "execute_result",
          "data": {
            "text/plain": [
              "-0.8011526357338304"
            ]
          },
          "metadata": {},
          "execution_count": 59
        }
      ]
    },
    {
      "cell_type": "code",
      "source": [
        "x_sin = np.arange(0 , 3*np.pi , 0.1)\n",
        "print(x_sin)"
      ],
      "metadata": {
        "id": "DvdjoLE1eAYd",
        "colab": {
          "base_uri": "https://localhost:8080/"
        },
        "outputId": "918dac92-a6f5-4b82-889e-a8e67cc5d244"
      },
      "execution_count": 60,
      "outputs": [
        {
          "output_type": "stream",
          "name": "stdout",
          "text": [
            "[0.  0.1 0.2 0.3 0.4 0.5 0.6 0.7 0.8 0.9 1.  1.1 1.2 1.3 1.4 1.5 1.6 1.7\n",
            " 1.8 1.9 2.  2.1 2.2 2.3 2.4 2.5 2.6 2.7 2.8 2.9 3.  3.1 3.2 3.3 3.4 3.5\n",
            " 3.6 3.7 3.8 3.9 4.  4.1 4.2 4.3 4.4 4.5 4.6 4.7 4.8 4.9 5.  5.1 5.2 5.3\n",
            " 5.4 5.5 5.6 5.7 5.8 5.9 6.  6.1 6.2 6.3 6.4 6.5 6.6 6.7 6.8 6.9 7.  7.1\n",
            " 7.2 7.3 7.4 7.5 7.6 7.7 7.8 7.9 8.  8.1 8.2 8.3 8.4 8.5 8.6 8.7 8.8 8.9\n",
            " 9.  9.1 9.2 9.3 9.4]\n"
          ]
        }
      ]
    },
    {
      "cell_type": "code",
      "source": [
        "y_sin = np.sin(x_sin)\n",
        "y_sin"
      ],
      "metadata": {
        "id": "ucDWk1axfIsB",
        "colab": {
          "base_uri": "https://localhost:8080/"
        },
        "outputId": "a5543dbc-04a7-485e-c8b1-ae4c6cfb4e2e"
      },
      "execution_count": 61,
      "outputs": [
        {
          "output_type": "execute_result",
          "data": {
            "text/plain": [
              "array([ 0.        ,  0.09983342,  0.19866933,  0.29552021,  0.38941834,\n",
              "        0.47942554,  0.56464247,  0.64421769,  0.71735609,  0.78332691,\n",
              "        0.84147098,  0.89120736,  0.93203909,  0.96355819,  0.98544973,\n",
              "        0.99749499,  0.9995736 ,  0.99166481,  0.97384763,  0.94630009,\n",
              "        0.90929743,  0.86320937,  0.8084964 ,  0.74570521,  0.67546318,\n",
              "        0.59847214,  0.51550137,  0.42737988,  0.33498815,  0.23924933,\n",
              "        0.14112001,  0.04158066, -0.05837414, -0.15774569, -0.2555411 ,\n",
              "       -0.35078323, -0.44252044, -0.52983614, -0.61185789, -0.68776616,\n",
              "       -0.7568025 , -0.81827711, -0.87157577, -0.91616594, -0.95160207,\n",
              "       -0.97753012, -0.993691  , -0.99992326, -0.99616461, -0.98245261,\n",
              "       -0.95892427, -0.92581468, -0.88345466, -0.83226744, -0.77276449,\n",
              "       -0.70554033, -0.63126664, -0.55068554, -0.46460218, -0.37387666,\n",
              "       -0.2794155 , -0.1821625 , -0.0830894 ,  0.0168139 ,  0.1165492 ,\n",
              "        0.21511999,  0.31154136,  0.40484992,  0.49411335,  0.57843976,\n",
              "        0.6569866 ,  0.72896904,  0.79366786,  0.85043662,  0.8987081 ,\n",
              "        0.93799998,  0.96791967,  0.98816823,  0.99854335,  0.99894134,\n",
              "        0.98935825,  0.96988981,  0.94073056,  0.90217183,  0.85459891,\n",
              "        0.79848711,  0.7343971 ,  0.66296923,  0.58491719,  0.50102086,\n",
              "        0.41211849,  0.31909836,  0.22288991,  0.12445442,  0.02477543])"
            ]
          },
          "metadata": {},
          "execution_count": 61
        }
      ]
    },
    {
      "cell_type": "code",
      "source": [
        "plt.plot(x_sin , y_sin)\n",
        "plt.show()"
      ],
      "metadata": {
        "id": "yDGAryL5iNHh",
        "colab": {
          "base_uri": "https://localhost:8080/",
          "height": 265
        },
        "outputId": "8e0d62cc-c0c9-4113-ce78-6c3ae0f89c1c"
      },
      "execution_count": 62,
      "outputs": [
        {
          "output_type": "display_data",
          "data": {
            "text/plain": [
              "<Figure size 432x288 with 1 Axes>"
            ],
            "image/png": "[encoded data removed]"
          },
          "metadata": {
            "needs_background": "light"
          }
        }
      ]
    },
    {
      "cell_type": "code",
      "source": [
        "y_cos = np.cos(x_sin)\n",
        "plt.plot(x_sin , y_cos)\n",
        "plt.show()"
      ],
      "metadata": {
        "id": "ULsmzp-EivcY",
        "colab": {
          "base_uri": "https://localhost:8080/",
          "height": 265
        },
        "outputId": "a8d7e191-5bd5-400f-d2d4-9b1815577b6d"
      },
      "execution_count": 63,
      "outputs": [
        {
          "output_type": "display_data",
          "data": {
            "text/plain": [
              "<Figure size 432x288 with 1 Axes>"
            ],
            "image/png": "[encoded data removed]"
          },
          "metadata": {
            "needs_background": "light"
          }
        }
      ]
    },
    {
      "cell_type": "code",
      "source": [
        "import random"
      ],
      "metadata": {
        "id": "dpkDT_BRjA0z"
      },
      "execution_count": 64,
      "outputs": []
    },
    {
      "cell_type": "code",
      "source": [
        "np.random.random(1)"
      ],
      "metadata": {
        "id": "xhBHKgj_kkpm",
        "colab": {
          "base_uri": "https://localhost:8080/"
        },
        "outputId": "8c28ebaa-e022-426e-f85a-b67e1f684335"
      },
      "execution_count": 65,
      "outputs": [
        {
          "output_type": "execute_result",
          "data": {
            "text/plain": [
              "array([0.53292197])"
            ]
          },
          "metadata": {},
          "execution_count": 65
        }
      ]
    },
    {
      "cell_type": "code",
      "source": [
        "np.random.random((3,3))"
      ],
      "metadata": {
        "id": "Zm8pxm70koiZ",
        "colab": {
          "base_uri": "https://localhost:8080/"
        },
        "outputId": "d84ae20e-c8b8-47c4-ddcc-b36764fe9235"
      },
      "execution_count": 66,
      "outputs": [
        {
          "output_type": "execute_result",
          "data": {
            "text/plain": [
              "array([[0.56599489, 0.85912402, 0.96233089],\n",
              "       [0.98096627, 0.13818032, 0.65119557],\n",
              "       [0.49378834, 0.78232751, 0.01883762]])"
            ]
          },
          "metadata": {},
          "execution_count": 66
        }
      ]
    },
    {
      "cell_type": "code",
      "source": [
        "np.random.randint(1,4)"
      ],
      "metadata": {
        "id": "4TUFHFVwk3Yl",
        "colab": {
          "base_uri": "https://localhost:8080/"
        },
        "outputId": "5e2fc86c-63d8-4e53-e0a0-570e7f671097"
      },
      "execution_count": 67,
      "outputs": [
        {
          "output_type": "execute_result",
          "data": {
            "text/plain": [
              "3"
            ]
          },
          "metadata": {},
          "execution_count": 67
        }
      ]
    },
    {
      "cell_type": "code",
      "source": [
        "np.random.randint(1,40 , (4,4))"
      ],
      "metadata": {
        "id": "T15t6B36lNEy",
        "colab": {
          "base_uri": "https://localhost:8080/"
        },
        "outputId": "39c362a6-70f8-42de-8838-75e289ddef5c"
      },
      "execution_count": 68,
      "outputs": [
        {
          "output_type": "execute_result",
          "data": {
            "text/plain": [
              "array([[30,  7, 32, 32],\n",
              "       [ 4, 11, 32,  6],\n",
              "       [26, 26, 15, 38],\n",
              "       [12, 36, 26, 27]])"
            ]
          },
          "metadata": {},
          "execution_count": 68
        }
      ]
    },
    {
      "cell_type": "code",
      "source": [
        "np.random.randint(1,40 , (3 , 4,4))"
      ],
      "metadata": {
        "id": "IqOMyg9VoEI3",
        "colab": {
          "base_uri": "https://localhost:8080/"
        },
        "outputId": "806af50a-d18a-4745-c45a-90033c970124"
      },
      "execution_count": 69,
      "outputs": [
        {
          "output_type": "execute_result",
          "data": {
            "text/plain": [
              "array([[[ 5, 32, 21, 35],\n",
              "        [37, 15, 17, 31],\n",
              "        [37, 15, 13, 29],\n",
              "        [25,  5, 33, 10]],\n",
              "\n",
              "       [[34, 14, 23, 32],\n",
              "        [14,  9, 30, 30],\n",
              "        [30, 16, 10, 29],\n",
              "        [ 4, 23, 38,  7]],\n",
              "\n",
              "       [[ 8, 12, 27,  8],\n",
              "        [19,  7, 11, 30],\n",
              "        [ 3, 32, 30,  2],\n",
              "        [19, 19,  8, 16]]])"
            ]
          },
          "metadata": {},
          "execution_count": 69
        }
      ]
    },
    {
      "cell_type": "code",
      "source": [
        "np.random.seed(10)\n",
        "np.random.randint(1,40 , (2 , 4,4))"
      ],
      "metadata": {
        "id": "eOvSfA9pok-I",
        "colab": {
          "base_uri": "https://localhost:8080/"
        },
        "outputId": "569081b3-b140-41f1-9c6a-02e378d63d7f"
      },
      "execution_count": 71,
      "outputs": [
        {
          "output_type": "execute_result",
          "data": {
            "text/plain": [
              "array([[[10, 37, 16,  1],\n",
              "        [29, 26, 30, 30],\n",
              "        [ 9, 10,  1, 37],\n",
              "        [17, 37, 12, 25]],\n",
              "\n",
              "       [[34,  9, 37, 15],\n",
              "        [14,  6, 14, 26],\n",
              "        [14, 29, 23, 31],\n",
              "        [31, 26, 13,  2]]])"
            ]
          },
          "metadata": {},
          "execution_count": 71
        }
      ]
    },
    {
      "cell_type": "code",
      "source": [
        "np.random.seed(10)\n",
        "np.random.randint(1,40 , (2 , 4,4))"
      ],
      "metadata": {
        "colab": {
          "base_uri": "https://localhost:8080/"
        },
        "id": "7KQp43NR1tis",
        "outputId": "44eca5e7-9eca-42ce-a93f-bbe2c72f38e5"
      },
      "execution_count": 72,
      "outputs": [
        {
          "output_type": "execute_result",
          "data": {
            "text/plain": [
              "array([[[10, 37, 16,  1],\n",
              "        [29, 26, 30, 30],\n",
              "        [ 9, 10,  1, 37],\n",
              "        [17, 37, 12, 25]],\n",
              "\n",
              "       [[34,  9, 37, 15],\n",
              "        [14,  6, 14, 26],\n",
              "        [14, 29, 23, 31],\n",
              "        [31, 26, 13,  2]]])"
            ]
          },
          "metadata": {},
          "execution_count": 72
        }
      ]
    },
    {
      "cell_type": "code",
      "source": [
        "np.random.seed(15)\n",
        "np.random.randint(1,40 , (2 , 4,4))"
      ],
      "metadata": {
        "colab": {
          "base_uri": "https://localhost:8080/"
        },
        "id": "fHoN-wxD2Dxp",
        "outputId": "0b3debb4-2b6e-468b-c2e3-ae5e6cddf03c"
      },
      "execution_count": 73,
      "outputs": [
        {
          "output_type": "execute_result",
          "data": {
            "text/plain": [
              "array([[[ 9, 13,  6,  1],\n",
              "        [29, 28,  8, 12],\n",
              "        [22, 30, 18, 32],\n",
              "        [24, 33, 11, 16]],\n",
              "\n",
              "       [[ 5, 38, 20, 14],\n",
              "        [30, 16, 39, 16],\n",
              "        [ 2, 32, 33, 22],\n",
              "        [27, 35, 12,  2]]])"
            ]
          },
          "metadata": {},
          "execution_count": 73
        }
      ]
    },
    {
      "cell_type": "code",
      "source": [
        "np.random.seed(15)\n",
        "np.random.randint(1,40 , (2 , 4,4))"
      ],
      "metadata": {
        "colab": {
          "base_uri": "https://localhost:8080/"
        },
        "id": "kF0I5T_H2GFJ",
        "outputId": "5dd6b4d1-7ba2-46aa-ddfb-77c847e0ddc3"
      },
      "execution_count": 75,
      "outputs": [
        {
          "output_type": "execute_result",
          "data": {
            "text/plain": [
              "array([[[ 9, 13,  6,  1],\n",
              "        [29, 28,  8, 12],\n",
              "        [22, 30, 18, 32],\n",
              "        [24, 33, 11, 16]],\n",
              "\n",
              "       [[ 5, 38, 20, 14],\n",
              "        [30, 16, 39, 16],\n",
              "        [ 2, 32, 33, 22],\n",
              "        [27, 35, 12,  2]]])"
            ]
          },
          "metadata": {},
          "execution_count": 75
        }
      ]
    },
    {
      "cell_type": "code",
      "source": [
        "np.random.rand(3)"
      ],
      "metadata": {
        "colab": {
          "base_uri": "https://localhost:8080/"
        },
        "id": "V1QL5Whl2Isn",
        "outputId": "47c4c5ff-55c5-41ff-a260-710c9900c960"
      },
      "execution_count": 76,
      "outputs": [
        {
          "output_type": "execute_result",
          "data": {
            "text/plain": [
              "array([0.47347444, 0.50971531, 0.94503842])"
            ]
          },
          "metadata": {},
          "execution_count": 76
        }
      ]
    },
    {
      "cell_type": "code",
      "source": [
        "np.random.rand(3,3)"
      ],
      "metadata": {
        "colab": {
          "base_uri": "https://localhost:8080/"
        },
        "id": "UoQ6T4-W2Zjw",
        "outputId": "73087844-6054-4dc9-c607-6f3178f3a35b"
      },
      "execution_count": 77,
      "outputs": [
        {
          "output_type": "execute_result",
          "data": {
            "text/plain": [
              "array([[0.10944665, 0.46509316, 0.14155526],\n",
              "       [0.53834876, 0.29899866, 0.53774522],\n",
              "       [0.66562754, 0.3643288 , 0.62301862]])"
            ]
          },
          "metadata": {},
          "execution_count": 77
        }
      ]
    },
    {
      "cell_type": "code",
      "source": [
        "np.random.randn(3,3)"
      ],
      "metadata": {
        "colab": {
          "base_uri": "https://localhost:8080/"
        },
        "id": "TfkxvgB-2bGP",
        "outputId": "d030a7f5-4b8e-4142-eb1e-18fad8ddae3a"
      },
      "execution_count": 78,
      "outputs": [
        {
          "output_type": "execute_result",
          "data": {
            "text/plain": [
              "array([[-1.03371234e+00,  1.84378693e+00, -1.66252274e+00],\n",
              "       [-1.46798807e+00, -7.54115869e-01, -1.68304224e-01],\n",
              "       [-1.11040316e+00, -1.53421717e-03,  8.28698116e-02]])"
            ]
          },
          "metadata": {},
          "execution_count": 78
        }
      ]
    },
    {
      "cell_type": "code",
      "source": [
        "np.random.random((3,3))"
      ],
      "metadata": {
        "colab": {
          "base_uri": "https://localhost:8080/"
        },
        "id": "9HTbHCIh2esN",
        "outputId": "f18e20d7-ee74-4e4c-d3a2-69698d0f0d9e"
      },
      "execution_count": 80,
      "outputs": [
        {
          "output_type": "execute_result",
          "data": {
            "text/plain": [
              "array([[0.44599815, 0.97460664, 0.32976593],\n",
              "       [0.19542482, 0.68404621, 0.35109886],\n",
              "       [0.77103611, 0.7917995 , 0.44387459]])"
            ]
          },
          "metadata": {},
          "execution_count": 80
        }
      ]
    },
    {
      "cell_type": "code",
      "source": [
        "x = [1,2,3,4,5]\n",
        "for i in range(20):\n",
        "  print(np.random.choice(x))"
      ],
      "metadata": {
        "colab": {
          "base_uri": "https://localhost:8080/"
        },
        "id": "6rceP0P22h4M",
        "outputId": "488f0320-dd85-4e4b-b79c-d985f398ef48"
      },
      "execution_count": 81,
      "outputs": [
        {
          "output_type": "stream",
          "name": "stdout",
          "text": [
            "1\n",
            "5\n",
            "1\n",
            "4\n",
            "3\n",
            "5\n",
            "3\n",
            "5\n",
            "3\n",
            "3\n",
            "2\n",
            "4\n",
            "4\n",
            "5\n",
            "4\n",
            "5\n",
            "4\n",
            "1\n",
            "4\n",
            "4\n"
          ]
        }
      ]
    },
    {
      "cell_type": "code",
      "source": [
        "np.random.permutation(x)"
      ],
      "metadata": {
        "colab": {
          "base_uri": "https://localhost:8080/"
        },
        "id": "De87oWVy3BWB",
        "outputId": "06aa4d05-bcfd-4ad9-902a-5b5f936e64f9"
      },
      "execution_count": 82,
      "outputs": [
        {
          "output_type": "execute_result",
          "data": {
            "text/plain": [
              "array([4, 5, 2, 3, 1])"
            ]
          },
          "metadata": {},
          "execution_count": 82
        }
      ]
    },
    {
      "cell_type": "code",
      "source": [
        "name = \"Ullash Bhattacharjee\" \n",
        "str1 = \" Learning Python Numpy\""
      ],
      "metadata": {
        "id": "TJSIYAVU3Jq5"
      },
      "execution_count": 89,
      "outputs": []
    },
    {
      "cell_type": "code",
      "source": [
        "np.char.add(name , str1)"
      ],
      "metadata": {
        "colab": {
          "base_uri": "https://localhost:8080/"
        },
        "id": "MzHhr9FT30z8",
        "outputId": "aae9e1f8-2c0c-441f-8c8d-b97a643360d0"
      },
      "execution_count": 88,
      "outputs": [
        {
          "output_type": "execute_result",
          "data": {
            "text/plain": [
              "array('Ullash Bhattacharjee Learning python numpy', dtype='<U42')"
            ]
          },
          "metadata": {},
          "execution_count": 88
        }
      ]
    },
    {
      "cell_type": "code",
      "source": [
        "np.char.lower(str1)"
      ],
      "metadata": {
        "colab": {
          "base_uri": "https://localhost:8080/"
        },
        "id": "9w8_tgHX4FsP",
        "outputId": "dba9a925-9c01-4493-90c5-fdb78fd6e73e"
      },
      "execution_count": 90,
      "outputs": [
        {
          "output_type": "execute_result",
          "data": {
            "text/plain": [
              "array(' learning python numpy', dtype='<U22')"
            ]
          },
          "metadata": {},
          "execution_count": 90
        }
      ]
    },
    {
      "cell_type": "code",
      "source": [
        "np.char.upper(str1)"
      ],
      "metadata": {
        "colab": {
          "base_uri": "https://localhost:8080/"
        },
        "id": "KhxUt0374Ryf",
        "outputId": "b5f5d89e-7da8-4a7c-e129-4b9a83ea405a"
      },
      "execution_count": 91,
      "outputs": [
        {
          "output_type": "execute_result",
          "data": {
            "text/plain": [
              "array(' LEARNING PYTHON NUMPY', dtype='<U22')"
            ]
          },
          "metadata": {},
          "execution_count": 91
        }
      ]
    },
    {
      "cell_type": "code",
      "source": [
        "np.char.center(str1 , 60)"
      ],
      "metadata": {
        "colab": {
          "base_uri": "https://localhost:8080/"
        },
        "id": "VIRkfD8v4Wyo",
        "outputId": "0aa9fbbe-9103-47a3-8c2f-d1793dc61504"
      },
      "execution_count": 94,
      "outputs": [
        {
          "output_type": "execute_result",
          "data": {
            "text/plain": [
              "array('                    Learning Python Numpy                   ',\n",
              "      dtype='<U60')"
            ]
          },
          "metadata": {},
          "execution_count": 94
        }
      ]
    },
    {
      "cell_type": "code",
      "source": [
        "np.char.center(str1 , 60 , fillchar = \"*\")"
      ],
      "metadata": {
        "colab": {
          "base_uri": "https://localhost:8080/"
        },
        "id": "_4e-TdEw4mdC",
        "outputId": "7fff904b-ceee-4c4a-9de2-3c0cb3bbafb1"
      },
      "execution_count": 95,
      "outputs": [
        {
          "output_type": "execute_result",
          "data": {
            "text/plain": [
              "array('******************* Learning Python Numpy*******************',\n",
              "      dtype='<U60')"
            ]
          },
          "metadata": {},
          "execution_count": 95
        }
      ]
    },
    {
      "cell_type": "code",
      "source": [
        "np.char.split(name)"
      ],
      "metadata": {
        "colab": {
          "base_uri": "https://localhost:8080/"
        },
        "id": "S39gknMb4tKi",
        "outputId": "a4ff68af-3d62-45f7-c1e9-d49315f5cbb9"
      },
      "execution_count": 96,
      "outputs": [
        {
          "output_type": "execute_result",
          "data": {
            "text/plain": [
              "array(list(['Ullash', 'Bhattacharjee']), dtype=object)"
            ]
          },
          "metadata": {},
          "execution_count": 96
        }
      ]
    },
    {
      "cell_type": "code",
      "source": [
        "np.char.splitlines(\"ullash\\nbhattacharjee\")"
      ],
      "metadata": {
        "colab": {
          "base_uri": "https://localhost:8080/"
        },
        "id": "oolJv4Oi4_AY",
        "outputId": "b7dc4c81-1380-41fb-e9c3-184fa55e33b0"
      },
      "execution_count": 98,
      "outputs": [
        {
          "output_type": "execute_result",
          "data": {
            "text/plain": [
              "array(list(['ullash', 'bhattacharjee']), dtype=object)"
            ]
          },
          "metadata": {},
          "execution_count": 98
        }
      ]
    },
    {
      "cell_type": "code",
      "source": [
        "str4 = \"dmy\"\n",
        "str5 = \"dmy\""
      ],
      "metadata": {
        "id": "yPCy_uZm5L38"
      },
      "execution_count": 99,
      "outputs": []
    },
    {
      "cell_type": "code",
      "source": [
        "np.char.join([\":\" , \"/\"] , [str4 , str5])"
      ],
      "metadata": {
        "colab": {
          "base_uri": "https://localhost:8080/"
        },
        "id": "MDR_m2zE5fF6",
        "outputId": "2c1446b9-e6fa-4f40-f98a-709ba87e6569"
      },
      "execution_count": 100,
      "outputs": [
        {
          "output_type": "execute_result",
          "data": {
            "text/plain": [
              "array(['d:m:y', 'd/m/y'], dtype='<U5')"
            ]
          },
          "metadata": {},
          "execution_count": 100
        }
      ]
    },
    {
      "cell_type": "code",
      "source": [
        "np.char.replace(name , \"Ullash\" , \"utshob\")"
      ],
      "metadata": {
        "colab": {
          "base_uri": "https://localhost:8080/"
        },
        "id": "zM3PdGGo5nuC",
        "outputId": "17fce7f3-dceb-4e04-cd74-f84b08127c62"
      },
      "execution_count": 102,
      "outputs": [
        {
          "output_type": "execute_result",
          "data": {
            "text/plain": [
              "array('utshob Bhattacharjee', dtype='<U20')"
            ]
          },
          "metadata": {},
          "execution_count": 102
        }
      ]
    },
    {
      "cell_type": "code",
      "source": [
        "np.char.equal(str4, str5)"
      ],
      "metadata": {
        "colab": {
          "base_uri": "https://localhost:8080/"
        },
        "id": "6pn7ZW0t52MG",
        "outputId": "e3c8ad55-df96-447f-8c4e-180d23f294f4"
      },
      "execution_count": 103,
      "outputs": [
        {
          "output_type": "execute_result",
          "data": {
            "text/plain": [
              "array(True)"
            ]
          },
          "metadata": {},
          "execution_count": 103
        }
      ]
    },
    {
      "cell_type": "code",
      "source": [
        "np.char.count(name , \"U\")"
      ],
      "metadata": {
        "colab": {
          "base_uri": "https://localhost:8080/"
        },
        "id": "RzHs-8fL5_T0",
        "outputId": "02b5d148-4a6d-4d7d-f4a3-0182abd95ab0"
      },
      "execution_count": 106,
      "outputs": [
        {
          "output_type": "execute_result",
          "data": {
            "text/plain": [
              "array(1)"
            ]
          },
          "metadata": {},
          "execution_count": 106
        }
      ]
    },
    {
      "cell_type": "code",
      "source": [
        "name"
      ],
      "metadata": {
        "colab": {
          "base_uri": "https://localhost:8080/",
          "height": 35
        },
        "id": "15NAnAOO6O_d",
        "outputId": "c80a849c-bd4d-4f7d-8e51-736f8ad78187"
      },
      "execution_count": 107,
      "outputs": [
        {
          "output_type": "execute_result",
          "data": {
            "text/plain": [
              "'Ullash Bhattacharjee'"
            ],
            "application/vnd.google.colaboratory.intrinsic+json": {
              "type": "string"
            }
          },
          "metadata": {},
          "execution_count": 107
        }
      ]
    },
    {
      "cell_type": "code",
      "source": [
        "np.char.find(name , \"ll\")"
      ],
      "metadata": {
        "colab": {
          "base_uri": "https://localhost:8080/"
        },
        "id": "mZal_jBN6T_Q",
        "outputId": "9ebbc0e5-2279-41d5-b5ed-9ff5f1c62725"
      },
      "execution_count": 111,
      "outputs": [
        {
          "output_type": "execute_result",
          "data": {
            "text/plain": [
              "array(1)"
            ]
          },
          "metadata": {},
          "execution_count": 111
        }
      ]
    },
    {
      "cell_type": "code",
      "source": [
        "a = np.array([1,2,3,4,5])"
      ],
      "metadata": {
        "id": "aybS3FuF6cHu"
      },
      "execution_count": 112,
      "outputs": []
    },
    {
      "cell_type": "code",
      "source": [
        "print(a[1:4])\n",
        "print(a[1:4:2])\n",
        "print(a[:])\n",
        "print(a[1:])\n",
        "print(a[:5])\n",
        "print(a[0::2])"
      ],
      "metadata": {
        "colab": {
          "base_uri": "https://localhost:8080/"
        },
        "id": "i06g7KNW8VSF",
        "outputId": "d440b342-b63a-4396-da58-04defa40e739"
      },
      "execution_count": 114,
      "outputs": [
        {
          "output_type": "stream",
          "name": "stdout",
          "text": [
            "[2 3 4]\n",
            "[2 4]\n",
            "[1 2 3 4 5]\n",
            "[2 3 4 5]\n",
            "[1 2 3 4 5]\n",
            "[1 3 5]\n"
          ]
        }
      ]
    },
    {
      "cell_type": "code",
      "source": [
        "print(a[-2:-1])\n",
        "print(a[-5:-1])\n",
        "print(a[-4:-1])\n",
        "print(a[-4:-1:2])\n",
        "print(a[-5:])\n",
        "print(a[-1:-4])\n",
        "print(a[:-3])\n",
        "print(a[-5:-5])\n",
        "print(a[-5:-4])\n",
        "print(a[-1:-1])"
      ],
      "metadata": {
        "colab": {
          "base_uri": "https://localhost:8080/"
        },
        "id": "IGw5Nem08W6e",
        "outputId": "1260b38c-5a18-4504-d9d8-2403f6ea9f4a"
      },
      "execution_count": 115,
      "outputs": [
        {
          "output_type": "stream",
          "name": "stdout",
          "text": [
            "[4]\n",
            "[1 2 3 4]\n",
            "[2 3 4]\n",
            "[2 4]\n",
            "[1 2 3 4 5]\n",
            "[]\n",
            "[1 2]\n",
            "[]\n",
            "[1]\n",
            "[]\n"
          ]
        }
      ]
    },
    {
      "cell_type": "code",
      "source": [
        "a = np.array([[1,2] , [3,4] , [5,6]])\n",
        "print(a)"
      ],
      "metadata": {
        "colab": {
          "base_uri": "https://localhost:8080/"
        },
        "id": "TNtrOnn88ccN",
        "outputId": "55647edb-fe23-4613-c61b-0bf3988852c5"
      },
      "execution_count": 116,
      "outputs": [
        {
          "output_type": "stream",
          "name": "stdout",
          "text": [
            "[[1 2]\n",
            " [3 4]\n",
            " [5 6]]\n"
          ]
        }
      ]
    },
    {
      "cell_type": "code",
      "source": [
        "print(a[1: , 1:])\n",
        "print(a[: , :])"
      ],
      "metadata": {
        "colab": {
          "base_uri": "https://localhost:8080/"
        },
        "id": "gAQECkIn8ejY",
        "outputId": "451cbee5-4ed7-4580-a842-e845b93d0c46"
      },
      "execution_count": 117,
      "outputs": [
        {
          "output_type": "stream",
          "name": "stdout",
          "text": [
            "[[4]\n",
            " [6]]\n",
            "[[1 2]\n",
            " [3 4]\n",
            " [5 6]]\n"
          ]
        }
      ]
    },
    {
      "cell_type": "code",
      "source": [
        "a = np.array([[1,2,3,4] , [5,6,7,8] , [20,30,40,50]])\n",
        "print(a)"
      ],
      "metadata": {
        "colab": {
          "base_uri": "https://localhost:8080/"
        },
        "id": "-RMfsM8x8f3e",
        "outputId": "138461bb-b918-4778-86fa-011d115e5858"
      },
      "execution_count": 118,
      "outputs": [
        {
          "output_type": "stream",
          "name": "stdout",
          "text": [
            "[[ 1  2  3  4]\n",
            " [ 5  6  7  8]\n",
            " [20 30 40 50]]\n"
          ]
        }
      ]
    },
    {
      "cell_type": "code",
      "source": [
        "print(a[1: , 1:])\n",
        "print(a[:: , ::2])\n",
        "print(a[1: , 0:2])\n",
        "print(a[0:2 , 1:3])\n",
        "print(a[::2 , ::2])"
      ],
      "metadata": {
        "colab": {
          "base_uri": "https://localhost:8080/"
        },
        "id": "p8G93_A58hKH",
        "outputId": "e1ba94d4-523f-4123-e4b9-977a994b2fdf"
      },
      "execution_count": 119,
      "outputs": [
        {
          "output_type": "stream",
          "name": "stdout",
          "text": [
            "[[ 6  7  8]\n",
            " [30 40 50]]\n",
            "[[ 1  3]\n",
            " [ 5  7]\n",
            " [20 40]]\n",
            "[[ 5  6]\n",
            " [20 30]]\n",
            "[[2 3]\n",
            " [6 7]]\n",
            "[[ 1  3]\n",
            " [20 40]]\n"
          ]
        }
      ]
    },
    {
      "cell_type": "code",
      "source": [
        "a = np.array([\n",
        "              [[1,2,3,4],\n",
        "               [5,6,7,8],\n",
        "               [9,10,11,12]],\n",
        "              \n",
        "              [[13,14,15,16],\n",
        "              [17,18,19,20],\n",
        "              [21,22,23,24]]])\n",
        "print(a)"
      ],
      "metadata": {
        "colab": {
          "base_uri": "https://localhost:8080/"
        },
        "id": "yZdMA1MU8oQc",
        "outputId": "52d69c85-ca24-4222-e4f5-142f90028d92"
      },
      "execution_count": 120,
      "outputs": [
        {
          "output_type": "stream",
          "name": "stdout",
          "text": [
            "[[[ 1  2  3  4]\n",
            "  [ 5  6  7  8]\n",
            "  [ 9 10 11 12]]\n",
            "\n",
            " [[13 14 15 16]\n",
            "  [17 18 19 20]\n",
            "  [21 22 23 24]]]\n"
          ]
        }
      ]
    },
    {
      "cell_type": "code",
      "source": [
        "print(a[:,:,:1])\n",
        "print(a[1: , 1: , :1])"
      ],
      "metadata": {
        "colab": {
          "base_uri": "https://localhost:8080/"
        },
        "id": "ftzpWiAr8qXB",
        "outputId": "9b88544b-c60b-48fe-f47a-1f21caf123ce"
      },
      "execution_count": 121,
      "outputs": [
        {
          "output_type": "stream",
          "name": "stdout",
          "text": [
            "[[[ 1]\n",
            "  [ 5]\n",
            "  [ 9]]\n",
            "\n",
            " [[13]\n",
            "  [17]\n",
            "  [21]]]\n",
            "[[[17]\n",
            "  [21]]]\n"
          ]
        }
      ]
    },
    {
      "cell_type": "code",
      "source": [
        "arr = np.array([[ [1,2,3] , [4,5,6]] , [[7,8,9] , [10,11,12]]])\n",
        "print(arr)"
      ],
      "metadata": {
        "colab": {
          "base_uri": "https://localhost:8080/"
        },
        "id": "1hiV4yDP8r3i",
        "outputId": "17c557e1-322e-42be-b30e-5582b6a0f61e"
      },
      "execution_count": 123,
      "outputs": [
        {
          "output_type": "stream",
          "name": "stdout",
          "text": [
            "[[[ 1  2  3]\n",
            "  [ 4  5  6]]\n",
            "\n",
            " [[ 7  8  9]\n",
            "  [10 11 12]]]\n"
          ]
        }
      ]
    },
    {
      "cell_type": "code",
      "source": [
        "print(arr[ 1: , 0: , 1: ])\n",
        "print(arr[ 1: , : , 1: ])\n",
        "\n",
        "print(arr[0:1 , : , :2])\n",
        "print(arr[0:1 , : , ::2])\n",
        "print(arr[: , : , :2])"
      ],
      "metadata": {
        "colab": {
          "base_uri": "https://localhost:8080/"
        },
        "id": "S-dMm_J58tTb",
        "outputId": "b5287b92-3c71-413c-fdc0-f07a1965775b"
      },
      "execution_count": 124,
      "outputs": [
        {
          "output_type": "stream",
          "name": "stdout",
          "text": [
            "[[[ 8  9]\n",
            "  [11 12]]]\n",
            "[[[ 8  9]\n",
            "  [11 12]]]\n",
            "[[[1 2]\n",
            "  [4 5]]]\n",
            "[[[1 3]\n",
            "  [4 6]]]\n",
            "[[[ 1  2]\n",
            "  [ 4  5]]\n",
            "\n",
            " [[ 7  8]\n",
            "  [10 11]]]\n"
          ]
        }
      ]
    },
    {
      "cell_type": "code",
      "source": [
        "a= np.array([\n",
        "             [[1,2,3,4] , \n",
        "              [5,6,7,8] , \n",
        "              [9,10,11,12]] , \n",
        "\n",
        "             [[13,14,15,16],\n",
        "             [19,20,21,22],\n",
        "             [23,24,25,25]]])\n",
        "\n",
        "print(a)"
      ],
      "metadata": {
        "colab": {
          "base_uri": "https://localhost:8080/"
        },
        "id": "Mgf1put98yUu",
        "outputId": "fe4143bc-1b03-4227-d695-3bdad934f47f"
      },
      "execution_count": 125,
      "outputs": [
        {
          "output_type": "stream",
          "name": "stdout",
          "text": [
            "[[[ 1  2  3  4]\n",
            "  [ 5  6  7  8]\n",
            "  [ 9 10 11 12]]\n",
            "\n",
            " [[13 14 15 16]\n",
            "  [19 20 21 22]\n",
            "  [23 24 25 25]]]\n"
          ]
        }
      ]
    },
    {
      "cell_type": "code",
      "source": [
        "print(a[ : , : , :1])\n",
        "print(a[: , ::2 , 1:3])"
      ],
      "metadata": {
        "colab": {
          "base_uri": "https://localhost:8080/"
        },
        "id": "NNoXlOP-81N9",
        "outputId": "a092f8ab-ea33-45a1-90ff-a7fb8cadd943"
      },
      "execution_count": 126,
      "outputs": [
        {
          "output_type": "stream",
          "name": "stdout",
          "text": [
            "[[[ 1]\n",
            "  [ 5]\n",
            "  [ 9]]\n",
            "\n",
            " [[13]\n",
            "  [19]\n",
            "  [23]]]\n",
            "[[[ 2  3]\n",
            "  [10 11]]\n",
            "\n",
            " [[14 15]\n",
            "  [24 25]]]\n"
          ]
        }
      ]
    },
    {
      "cell_type": "code",
      "source": [
        "print(a[: , : , ::2])\n",
        "print(a[ : , ::2, ::2])\n",
        "print(a[1:, 1:, :1])"
      ],
      "metadata": {
        "colab": {
          "base_uri": "https://localhost:8080/"
        },
        "id": "kIONTPZe812E",
        "outputId": "f5c000b8-0155-4753-a6fe-a0204f399f8c"
      },
      "execution_count": 127,
      "outputs": [
        {
          "output_type": "stream",
          "name": "stdout",
          "text": [
            "[[[ 1  3]\n",
            "  [ 5  7]\n",
            "  [ 9 11]]\n",
            "\n",
            " [[13 15]\n",
            "  [19 21]\n",
            "  [23 25]]]\n",
            "[[[ 1  3]\n",
            "  [ 9 11]]\n",
            "\n",
            " [[13 15]\n",
            "  [23 25]]]\n",
            "[[[19]\n",
            "  [23]]]\n"
          ]
        }
      ]
    },
    {
      "cell_type": "code",
      "source": [
        ""
      ],
      "metadata": {
        "id": "L7Aj-gc388xV"
      },
      "execution_count": null,
      "outputs": []
    }
  ]
}