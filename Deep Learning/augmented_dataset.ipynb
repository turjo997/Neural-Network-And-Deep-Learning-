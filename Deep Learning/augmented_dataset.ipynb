{
  "nbformat": 4,
  "nbformat_minor": 0,
  "metadata": {
    "colab": {
      "name": "augmented_dataset.ipynb",
      "provenance": [],
      "collapsed_sections": [],
      "include_colab_link": true
    },
    "kernelspec": {
      "name": "python3",
      "display_name": "Python 3"
    },
    "language_info": {
      "name": "python"
    }
  },
  "cells": [
    {
      "cell_type": "markdown",
      "metadata": {
        "id": "view-in-github",
        "colab_type": "text"
      },
      "source": [
        "<a href=\"https://colab.research.google.com/github/turjo997/Neural-Network-And-Deep-Learning-/blob/main/Deep%20Learning/augmented_dataset.ipynb\" target=\"_parent\"><img src=\"https://colab.research.google.com/assets/colab-badge.svg\" alt=\"Open In Colab\"/></a>"
      ]
    },
    {
      "cell_type": "code",
      "execution_count": null,
      "metadata": {
        "colab": {
          "base_uri": "https://localhost:8080/"
        },
        "id": "1vfh73eraxz2",
        "outputId": "43e114a4-bd60-4e80-e373-58f7aa9d3533"
      },
      "outputs": [
        {
          "output_type": "stream",
          "name": "stdout",
          "text": [
            "Mounted at /content/drive\n"
          ]
        }
      ],
      "source": [
        "from google.colab import drive\n",
        "drive.mount('/content/drive')"
      ]
    },
    {
      "cell_type": "code",
      "source": [
        "!pip install Augmentor"
      ],
      "metadata": {
        "colab": {
          "base_uri": "https://localhost:8080/"
        },
        "id": "ooqF5Secbfiq",
        "outputId": "666f671a-2659-4cf4-eb4f-658e8e60b588"
      },
      "execution_count": null,
      "outputs": [
        {
          "output_type": "stream",
          "name": "stdout",
          "text": [
            "Collecting Augmentor\n",
            "  Downloading Augmentor-0.2.9-py2.py3-none-any.whl (38 kB)\n",
            "Requirement already satisfied: numpy>=1.11.0 in /usr/local/lib/python3.7/dist-packages (from Augmentor) (1.19.5)\n",
            "Requirement already satisfied: Pillow>=5.2.0 in /usr/local/lib/python3.7/dist-packages (from Augmentor) (7.1.2)\n",
            "Requirement already satisfied: tqdm>=4.9.0 in /usr/local/lib/python3.7/dist-packages (from Augmentor) (4.62.3)\n",
            "Requirement already satisfied: future>=0.16.0 in /usr/local/lib/python3.7/dist-packages (from Augmentor) (0.16.0)\n",
            "Installing collected packages: Augmentor\n",
            "Successfully installed Augmentor-0.2.9\n"
          ]
        }
      ]
    },
    {
      "cell_type": "code",
      "source": [
        "import Augmentor\n",
        "import os"
      ],
      "metadata": {
        "id": "VdfG5To4bm4q"
      },
      "execution_count": null,
      "outputs": []
    },
    {
      "cell_type": "code",
      "source": [
        "path =  os.path.join('/content/drive/MyDrive/Dataset/one')"
      ],
      "metadata": {
        "id": "DNOjzrpobqZP"
      },
      "execution_count": null,
      "outputs": []
    },
    {
      "cell_type": "code",
      "source": [
        "os.listdir(path)"
      ],
      "metadata": {
        "id": "4l_D_-t7b5AN"
      },
      "execution_count": null,
      "outputs": []
    },
    {
      "cell_type": "code",
      "source": [
        "p = Augmentor.Pipeline(path)"
      ],
      "metadata": {
        "id": "4At2MORHb8UN"
      },
      "execution_count": null,
      "outputs": []
    },
    {
      "cell_type": "code",
      "source": [
        "p.flip_left_right(probability=0.5)\n",
        "p.flip_top_bottom(probability=0.8)\n",
        "p.random_distortion(probability=1, grid_width=20, grid_height=20, magnitude=10)\n",
        "p.skew_left_right\n",
        "p.skew_top_bottom\n",
        "p.skew_corner\n",
        "p.sample(400)"
      ],
      "metadata": {
        "id": "AHLcQIOccFiK"
      },
      "execution_count": null,
      "outputs": []
    },
    {
      "cell_type": "code",
      "source": [
        "p.rotate(probability=0.5, max_left_rotation=5, max_right_rotation=10)\n",
        "p.sample(20)\n"
      ],
      "metadata": {
        "id": "3FBqdBcwcRu2"
      },
      "execution_count": null,
      "outputs": []
    },
    {
      "cell_type": "code",
      "source": [
        "p.skew_left_right\n",
        "p.skew_top_bottom\n",
        "p.skew_corner\n",
        "p.sample(100)"
      ],
      "metadata": {
        "id": "eOLWScd3dLeI"
      },
      "execution_count": null,
      "outputs": []
    },
    {
      "cell_type": "code",
      "source": [
        "path1 =  os.path.join('/content/drive/MyDrive/Dataset/two')"
      ],
      "metadata": {
        "id": "1hVeXd3hdp47"
      },
      "execution_count": null,
      "outputs": []
    },
    {
      "cell_type": "code",
      "source": [
        "p1 = Augmentor.Pipeline(path1)"
      ],
      "metadata": {
        "id": "Rw6tOf4rd53L"
      },
      "execution_count": null,
      "outputs": []
    },
    {
      "cell_type": "code",
      "source": [
        "p1.flip_left_right(probability=0.5)\n",
        "p1.flip_top_bottom(probability=0.8)\n",
        "p1.random_distortion(probability=1, grid_width=20, grid_height=20, magnitude=10)\n",
        "p1.skew_left_right\n",
        "p1.skew_top_bottom\n",
        "p1.skew_corner\n",
        "p1.sample(200)"
      ],
      "metadata": {
        "id": "Cp0y_lpafTDP"
      },
      "execution_count": null,
      "outputs": []
    },
    {
      "cell_type": "code",
      "source": [
        "path2 =  os.path.join('/content/drive/MyDrive/Dataset/three')"
      ],
      "metadata": {
        "id": "p2XkL9RJffai"
      },
      "execution_count": null,
      "outputs": []
    },
    {
      "cell_type": "code",
      "source": [
        "p2 = Augmentor.Pipeline(path2)"
      ],
      "metadata": {
        "id": "C3cq2oCRfsaB"
      },
      "execution_count": null,
      "outputs": []
    },
    {
      "cell_type": "code",
      "source": [
        "p2.flip_left_right(probability=0.5)\n",
        "p2.flip_top_bottom(probability=0.8)\n",
        "p2.random_distortion(probability=1, grid_width=20, grid_height=20, magnitude=10)\n",
        "p2.skew_left_right\n",
        "p2.skew_top_bottom\n",
        "p2.skew_corner\n",
        "p2.sample(500)"
      ],
      "metadata": {
        "id": "sRt0Bz2Yi31i"
      },
      "execution_count": null,
      "outputs": []
    },
    {
      "cell_type": "code",
      "source": [
        "path3 =  os.path.join('/content/drive/MyDrive/Dataset/four')"
      ],
      "metadata": {
        "id": "1vCy0COCjr08"
      },
      "execution_count": null,
      "outputs": []
    },
    {
      "cell_type": "code",
      "source": [
        "p3 = Augmentor.Pipeline(path3)"
      ],
      "metadata": {
        "id": "rzGsk-1nnKNU"
      },
      "execution_count": null,
      "outputs": []
    },
    {
      "cell_type": "code",
      "source": [
        "p3.flip_left_right(probability=0.5)\n",
        "p3.flip_top_bottom(probability=0.8)\n",
        "p3.random_distortion(probability=1, grid_width=20, grid_height=20, magnitude=10)\n",
        "p3.skew_left_right\n",
        "p3.skew_top_bottom\n",
        "p3.skew_corner\n",
        "p3.sample(500)"
      ],
      "metadata": {
        "id": "afzEbiODnMSg"
      },
      "execution_count": null,
      "outputs": []
    },
    {
      "cell_type": "code",
      "source": [
        "path4 =  os.path.join('/content/drive/MyDrive/Dataset/five')"
      ],
      "metadata": {
        "id": "cs6BLjVVnSVD"
      },
      "execution_count": null,
      "outputs": []
    },
    {
      "cell_type": "code",
      "source": [
        "p4 = Augmentor.Pipeline(path4)"
      ],
      "metadata": {
        "id": "7h1iMd0ZrLZ7"
      },
      "execution_count": null,
      "outputs": []
    },
    {
      "cell_type": "code",
      "source": [
        "p4.flip_left_right(probability=0.5)\n",
        "p4.flip_top_bottom(probability=0.8)\n",
        "p4.random_distortion(probability=1, grid_width=20, grid_height=20, magnitude=10)\n",
        "p4.skew_left_right\n",
        "p4.skew_top_bottom\n",
        "p4.skew_corner\n",
        "p4.sample(500)"
      ],
      "metadata": {
        "id": "J-PS9jJ6rSPk"
      },
      "execution_count": null,
      "outputs": []
    },
    {
      "cell_type": "code",
      "source": [
        ""
      ],
      "metadata": {
        "id": "q0vaeN2urU9y"
      },
      "execution_count": null,
      "outputs": []
    }
  ]
}